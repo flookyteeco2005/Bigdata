{
  "nbformat": 4,
  "nbformat_minor": 0,
  "metadata": {
    "colab": {
      "name": "Assignment3.ipynb",
      "version": "0.3.2",
      "provenance": [],
      "collapsed_sections": [],
      "include_colab_link": true
    },
    "kernelspec": {
      "name": "python3",
      "display_name": "Python 3"
    },
    "accelerator": "GPU"
  },
  "cells": [
    {
      "cell_type": "markdown",
      "metadata": {
        "id": "view-in-github",
        "colab_type": "text"
      },
      "source": [
        "<a href=\"https://colab.research.google.com/github/flookyteeco2005/Bigdata/blob/master/Assignment3.ipynb\" target=\"_parent\"><img src=\"https://colab.research.google.com/assets/colab-badge.svg\" alt=\"Open In Colab\"/></a>"
      ]
    },
    {
      "metadata": {
        "id": "b1t7QKrU6Jod",
        "colab_type": "text"
      },
      "cell_type": "markdown",
      "source": [
        "**ASSIGNMENT SUBMITTED BY FOLAKEMI TOYIN GBADAMOSI**"
      ]
    },
    {
      "metadata": {
        "id": "qt0HUfy96NGV",
        "colab_type": "text"
      },
      "cell_type": "markdown",
      "source": [
        "# Simple Housing Dataset\n",
        "\n",
        "# Create a regression model that predicts the price of boston house bold text"
      ]
    },
    {
      "metadata": {
        "id": "afmbfPBAWl9x",
        "colab_type": "text"
      },
      "cell_type": "markdown",
      "source": [
        "# **Instructions**\n",
        "\t\n",
        "\n",
        "#    Extract data with pandas\n",
        "#    Process data if neededd (replace missing values, normalization, etc)\n",
        "#    Define model in Keras\n",
        "#    Train model\n",
        "#    Plot metrics with matplotlib\n"
      ]
    },
    {
      "metadata": {
        "id": "RYVgpIbJ6R2o",
        "colab_type": "code",
        "outputId": "6af4c699-eea3-4af2-d35a-2b25debaf3e1",
        "colab": {
          "base_uri": "https://localhost:8080/",
          "height": 220
        }
      },
      "cell_type": "code",
      "source": [
        "!wget https://storage.googleapis.com/nicksdemobucket/housing-data.csv"
      ],
      "execution_count": 0,
      "outputs": [
        {
          "output_type": "stream",
          "text": [
            "--2019-04-22 21:40:14--  https://storage.googleapis.com/nicksdemobucket/housing-data.csv\n",
            "Resolving storage.googleapis.com (storage.googleapis.com)... 74.125.141.128, 2607:f8b0:400c:c06::80\n",
            "Connecting to storage.googleapis.com (storage.googleapis.com)|74.125.141.128|:443... connected.\n",
            "HTTP request sent, awaiting response... 200 OK\n",
            "Length: 816 [application/octet-stream]\n",
            "Saving to: ‘housing-data.csv.5’\n",
            "\n",
            "\rhousing-data.csv.5    0%[                    ]       0  --.-KB/s               \rhousing-data.csv.5  100%[===================>]     816  --.-KB/s    in 0s      \n",
            "\n",
            "2019-04-22 21:40:14 (21.9 MB/s) - ‘housing-data.csv.5’ saved [816/816]\n",
            "\n"
          ],
          "name": "stdout"
        }
      ]
    },
    {
      "metadata": {
        "id": "qeNDcdDk6Zbr",
        "colab_type": "code",
        "colab": {}
      },
      "cell_type": "code",
      "source": [
        "!apt-get -qq install -y graphviz && pip install -q pydot\n",
        "import pydot "
      ],
      "execution_count": 0,
      "outputs": []
    },
    {
      "metadata": {
        "id": "hB6ZTIiFlzuD",
        "colab_type": "code",
        "outputId": "8c8e0bc1-4ca2-40b9-ff48-20dcd28eb2d3",
        "colab": {
          "base_uri": "https://localhost:8080/",
          "height": 239
        }
      },
      "cell_type": "code",
      "source": [
        "# Install dependencies\n",
        "!apt install graphviz\n",
        "!pip install pydot pydot-ng\n",
        "!echo \"Double check with Python 3\"\n",
        "!python -c \"import pydot\""
      ],
      "execution_count": 0,
      "outputs": [
        {
          "output_type": "stream",
          "text": [
            "Reading package lists... Done\n",
            "Building dependency tree       \n",
            "Reading state information... Done\n",
            "graphviz is already the newest version (2.40.1-2).\n",
            "The following package was automatically installed and is no longer required:\n",
            "  libnvidia-common-410\n",
            "Use 'apt autoremove' to remove it.\n",
            "0 upgraded, 0 newly installed, 0 to remove and 6 not upgraded.\n",
            "Requirement already satisfied: pydot in /usr/local/lib/python3.6/dist-packages (1.3.0)\n",
            "Requirement already satisfied: pydot-ng in /usr/local/lib/python3.6/dist-packages (2.0.0)\n",
            "Requirement already satisfied: pyparsing>=2.1.4 in /usr/local/lib/python3.6/dist-packages (from pydot) (2.4.0)\n",
            "Double check with Python 3\n"
          ],
          "name": "stdout"
        }
      ]
    },
    {
      "metadata": {
        "id": "XYAp-JAhWr90",
        "colab_type": "text"
      },
      "cell_type": "markdown",
      "source": [
        "# **To Extract data with pandas**"
      ]
    },
    {
      "metadata": {
        "id": "Db4vbJv66gW7",
        "colab_type": "code",
        "colab": {}
      },
      "cell_type": "code",
      "source": [
        "import numpy as np\n",
        "import pandas as pd\n",
        "from sklearn.model_selection import ShuffleSplit\n",
        "import matplotlib.pyplot as plt\n",
        "%matplotlib inline"
      ],
      "execution_count": 0,
      "outputs": []
    },
    {
      "metadata": {
        "id": "C76yYZrOY2cF",
        "colab_type": "code",
        "outputId": "2ec5fae1-7d33-44c7-c6d3-508cd77c8a56",
        "colab": {
          "base_uri": "https://localhost:8080/",
          "height": 54
        }
      },
      "cell_type": "code",
      "source": [
        "import tensorflow as tf\n",
        "from tensorflow import keras\n",
        "from tensorflow.keras import Sequential, layers\n",
        "from tensorflow.keras.layers import Dense, Flatten\n",
        "\n",
        "print(tf.VERSION)\n",
        "print(tf.keras.__version__)"
      ],
      "execution_count": 0,
      "outputs": [
        {
          "output_type": "stream",
          "text": [
            "1.13.1\n",
            "2.2.4-tf\n"
          ],
          "name": "stdout"
        }
      ]
    },
    {
      "metadata": {
        "id": "jcUTQ2O66n5e",
        "colab_type": "text"
      },
      "cell_type": "markdown",
      "source": [
        "MNIST\n",
        "\n",
        "Extract data with pandas"
      ]
    },
    {
      "metadata": {
        "id": "L0dEXd0a6jMF",
        "colab_type": "code",
        "colab": {}
      },
      "cell_type": "code",
      "source": [
        "data = pd.read_csv('housing-data.csv')\n",
        "#prices = data['price']\n",
        "#features = data.drop('price', axis = 1)\n",
        "\n",
        "features = np.random.random((1000, 32))\n",
        "labels = np.random.random((1000, 10))"
      ],
      "execution_count": 0,
      "outputs": []
    },
    {
      "metadata": {
        "id": "oDdwSoSoW3PB",
        "colab_type": "text"
      },
      "cell_type": "markdown",
      "source": [
        "# **Process data if neededd (replace missing values, normalization, etc)**"
      ]
    },
    {
      "metadata": {
        "id": "KMbywIeIW8cB",
        "colab_type": "code",
        "outputId": "8a375143-2096-40d9-96da-84b4947ae078",
        "colab": {
          "base_uri": "https://localhost:8080/",
          "height": 206
        }
      },
      "cell_type": "code",
      "source": [
        "data.head()"
      ],
      "execution_count": 0,
      "outputs": [
        {
          "output_type": "execute_result",
          "data": {
            "text/html": [
              "<div>\n",
              "<style scoped>\n",
              "    .dataframe tbody tr th:only-of-type {\n",
              "        vertical-align: middle;\n",
              "    }\n",
              "\n",
              "    .dataframe tbody tr th {\n",
              "        vertical-align: top;\n",
              "    }\n",
              "\n",
              "    .dataframe thead th {\n",
              "        text-align: right;\n",
              "    }\n",
              "</style>\n",
              "<table border=\"1\" class=\"dataframe\">\n",
              "  <thead>\n",
              "    <tr style=\"text-align: right;\">\n",
              "      <th></th>\n",
              "      <th>sqft</th>\n",
              "      <th>bdrms</th>\n",
              "      <th>age</th>\n",
              "      <th>price</th>\n",
              "    </tr>\n",
              "  </thead>\n",
              "  <tbody>\n",
              "    <tr>\n",
              "      <th>0</th>\n",
              "      <td>2104</td>\n",
              "      <td>3</td>\n",
              "      <td>70</td>\n",
              "      <td>399900</td>\n",
              "    </tr>\n",
              "    <tr>\n",
              "      <th>1</th>\n",
              "      <td>1600</td>\n",
              "      <td>3</td>\n",
              "      <td>28</td>\n",
              "      <td>329900</td>\n",
              "    </tr>\n",
              "    <tr>\n",
              "      <th>2</th>\n",
              "      <td>2400</td>\n",
              "      <td>3</td>\n",
              "      <td>44</td>\n",
              "      <td>369000</td>\n",
              "    </tr>\n",
              "    <tr>\n",
              "      <th>3</th>\n",
              "      <td>1416</td>\n",
              "      <td>2</td>\n",
              "      <td>49</td>\n",
              "      <td>232000</td>\n",
              "    </tr>\n",
              "    <tr>\n",
              "      <th>4</th>\n",
              "      <td>3000</td>\n",
              "      <td>4</td>\n",
              "      <td>75</td>\n",
              "      <td>539900</td>\n",
              "    </tr>\n",
              "  </tbody>\n",
              "</table>\n",
              "</div>"
            ],
            "text/plain": [
              "   sqft  bdrms  age   price\n",
              "0  2104      3   70  399900\n",
              "1  1600      3   28  329900\n",
              "2  2400      3   44  369000\n",
              "3  1416      2   49  232000\n",
              "4  3000      4   75  539900"
            ]
          },
          "metadata": {
            "tags": []
          },
          "execution_count": 99
        }
      ]
    },
    {
      "metadata": {
        "id": "nIOqaB0Vd_o1",
        "colab_type": "text"
      },
      "cell_type": "markdown",
      "source": [
        "# Generate dummy data"
      ]
    },
    {
      "metadata": {
        "id": "_67N6TWSd3KR",
        "colab_type": "code",
        "colab": {}
      },
      "cell_type": "code",
      "source": [
        "import numpy as np\n",
        "x_train = np.random.random((1000, 20))\n",
        "y_train = keras.utils.to_categorical(np.random.randint(10, size=(1000, 1)), num_classes=10)\n",
        "x_test = np.random.random((100, 20))\n",
        "y_test = keras.utils.to_categorical(np.random.randint(10, size=(100, 1)), num_classes=10)\n"
      ],
      "execution_count": 0,
      "outputs": []
    },
    {
      "metadata": {
        "id": "sYPeqQMZXTh0",
        "colab_type": "text"
      },
      "cell_type": "markdown",
      "source": [
        "# **Define model in Keras**\n",
        "Multilayer Perceptron (MLP) for multi-class softmax classification\n",
        "\n",
        "The Sequential model is a linear stack of layers.\n",
        "\n",
        "This can create a Sequential model by passing a list of layer instances to the constructor:"
      ]
    },
    {
      "metadata": {
        "id": "rNahFFRobV9M",
        "colab_type": "code",
        "outputId": "1f78a876-663c-4123-ffb7-f0edfa1e0238",
        "colab": {
          "base_uri": "https://localhost:8080/",
          "height": 405
        }
      },
      "cell_type": "code",
      "source": [
        "# maximum simplicity\n",
        "seq_model = Sequential()\n",
        "seq_model.add(Dense(20, activation='relu', input_shape=(32,)))\n",
        "seq_model.add(Dense(20, activation='relu'))\n",
        "seq_model.add(Dense(10, activation='softmax'))\n",
        "\n",
        "seq_model.compile(optimizer=tf.train.AdamOptimizer(0.001),\n",
        "              loss='categorical_crossentropy',\n",
        "              metrics=['accuracy'])\n",
        "\n",
        "seq_model.fit(features, labels, epochs=10, batch_size=32)"
      ],
      "execution_count": 0,
      "outputs": [
        {
          "output_type": "stream",
          "text": [
            "Epoch 1/10\n",
            "1000/1000 [==============================] - 0s 246us/sample - loss: 11.6076 - acc: 0.1050\n",
            "Epoch 2/10\n",
            "1000/1000 [==============================] - 0s 100us/sample - loss: 11.5211 - acc: 0.0980\n",
            "Epoch 3/10\n",
            "1000/1000 [==============================] - 0s 104us/sample - loss: 11.5117 - acc: 0.1090\n",
            "Epoch 4/10\n",
            "1000/1000 [==============================] - 0s 100us/sample - loss: 11.5076 - acc: 0.1070\n",
            "Epoch 5/10\n",
            "1000/1000 [==============================] - 0s 97us/sample - loss: 11.5046 - acc: 0.1020\n",
            "Epoch 6/10\n",
            "1000/1000 [==============================] - 0s 111us/sample - loss: 11.5022 - acc: 0.1040\n",
            "Epoch 7/10\n",
            "1000/1000 [==============================] - 0s 98us/sample - loss: 11.5006 - acc: 0.1030\n",
            "Epoch 8/10\n",
            "1000/1000 [==============================] - 0s 101us/sample - loss: 11.4997 - acc: 0.1130\n",
            "Epoch 9/10\n",
            "1000/1000 [==============================] - 0s 100us/sample - loss: 11.4985 - acc: 0.1060\n",
            "Epoch 10/10\n",
            "1000/1000 [==============================] - 0s 102us/sample - loss: 11.4977 - acc: 0.1060\n"
          ],
          "name": "stdout"
        },
        {
          "output_type": "execute_result",
          "data": {
            "text/plain": [
              "<tensorflow.python.keras.callbacks.History at 0x7fd426c45e10>"
            ]
          },
          "metadata": {
            "tags": []
          },
          "execution_count": 102
        }
      ]
    },
    {
      "metadata": {
        "colab_type": "text",
        "id": "6a--AOkV2Nj9"
      },
      "cell_type": "markdown",
      "source": [
        "Before training a model, we need to configure the learning process, which is done via the compile method. It receives three arguments:\n",
        "\n",
        "1. An optimizer. This could be the string identifier of an existing optimizer (such as rmsprop or adagrad), or an instance of the Optimizer class.\n",
        "\n",
        "2. A loss function. This is the objective that the model will try to minimize. It can be the string identifier of an existing loss function (such as categorical_crossentropy or mse), or it can be an objective function.\n",
        "\n",
        "3. A list of metrics. For any classification problem you will want to set this to metrics=[\"accuracy\"] . A metric could be the string identifier of an existing metric or a custom metric function."
      ]
    },
    {
      "metadata": {
        "id": "-HCN3FZClbCH",
        "colab_type": "code",
        "outputId": "e56d64ee-8744-44db-cd7a-cae08adfbb1c",
        "colab": {
          "base_uri": "https://localhost:8080/",
          "height": 405
        }
      },
      "cell_type": "code",
      "source": [
        "# more full featured and flexible\n",
        "inputs = keras.Input(shape=(32,))\n",
        "x = Dense(20, activation='relu')(inputs)\n",
        "x = Dense(20, activation='relu')(x)\n",
        "outputs = Dense(10, activation='softmax')(x)\n",
        "\n",
        "func_model = keras.Model(inputs, outputs)\n",
        "func_model.compile(optimizer=tf.train.AdamOptimizer(0.001),\n",
        "              loss='categorical_crossentropy',\n",
        "              metrics=['accuracy'])\n",
        "func_model.fit(features, labels, epochs=10, batch_size=32)"
      ],
      "execution_count": 0,
      "outputs": [
        {
          "output_type": "stream",
          "text": [
            "Epoch 1/10\n",
            "1000/1000 [==============================] - 0s 240us/sample - loss: 11.5643 - acc: 0.1070\n",
            "Epoch 2/10\n",
            "1000/1000 [==============================] - 0s 90us/sample - loss: 11.5168 - acc: 0.1070\n",
            "Epoch 3/10\n",
            "1000/1000 [==============================] - 0s 122us/sample - loss: 11.5098 - acc: 0.1150\n",
            "Epoch 4/10\n",
            "1000/1000 [==============================] - 0s 93us/sample - loss: 11.5062 - acc: 0.1110\n",
            "Epoch 5/10\n",
            "1000/1000 [==============================] - 0s 93us/sample - loss: 11.5036 - acc: 0.1150\n",
            "Epoch 6/10\n",
            "1000/1000 [==============================] - 0s 98us/sample - loss: 11.5017 - acc: 0.1180\n",
            "Epoch 7/10\n",
            "1000/1000 [==============================] - 0s 93us/sample - loss: 11.5002 - acc: 0.1140\n",
            "Epoch 8/10\n",
            "1000/1000 [==============================] - 0s 94us/sample - loss: 11.4986 - acc: 0.1210\n",
            "Epoch 9/10\n",
            "1000/1000 [==============================] - 0s 95us/sample - loss: 11.4973 - acc: 0.1180\n",
            "Epoch 10/10\n",
            "1000/1000 [==============================] - 0s 94us/sample - loss: 11.4962 - acc: 0.1100\n"
          ],
          "name": "stdout"
        },
        {
          "output_type": "execute_result",
          "data": {
            "text/plain": [
              "<tensorflow.python.keras.callbacks.History at 0x7fd4260224a8>"
            ]
          },
          "metadata": {
            "tags": []
          },
          "execution_count": 103
        }
      ]
    },
    {
      "metadata": {
        "id": "U0MwUDQh3v-w",
        "colab_type": "text"
      },
      "cell_type": "markdown",
      "source": [
        "# **Train model**\n",
        "# Keras models are trained on Numpy arrays of input data and labels. For training a model, we will typically use the fit function."
      ]
    },
    {
      "metadata": {
        "id": "O12mOePHmXe8",
        "colab_type": "code",
        "outputId": "ffa7306d-2216-4142-c032-d487216f3dbc",
        "colab": {
          "base_uri": "https://localhost:8080/",
          "height": 405
        }
      },
      "cell_type": "code",
      "source": [
        "class ScModel(keras.Model):\n",
        "  \n",
        "  def __init__(self):\n",
        "    super(ScModel, self).__init__()\n",
        "    self.dense1 = Dense(20, activation='relu')\n",
        "    self.dense2 = Dense(20, activation='relu')\n",
        "    self.dense3 = Dense(10, activation='softmax')\n",
        "    \n",
        "  def call(self, inputs):\n",
        "    x = self.dense1(inputs)\n",
        "    x = self.dense2(x)\n",
        "    return self.dense3(x)\n",
        "  \n",
        "sc_model = ScModel()\n",
        "sc_model.compile(optimizer=tf.train.AdamOptimizer(0.001),\n",
        "              loss='categorical_crossentropy',\n",
        "              metrics=['accuracy'])\n",
        "sc_model.fit(features, labels, epochs=10, batch_size=32)"
      ],
      "execution_count": 0,
      "outputs": [
        {
          "output_type": "stream",
          "text": [
            "Epoch 1/10\n",
            "1000/1000 [==============================] - 0s 264us/sample - loss: 11.6415 - acc: 0.0990\n",
            "Epoch 2/10\n",
            "1000/1000 [==============================] - 0s 123us/sample - loss: 11.5197 - acc: 0.1000\n",
            "Epoch 3/10\n",
            "1000/1000 [==============================] - 0s 116us/sample - loss: 11.5087 - acc: 0.1040\n",
            "Epoch 4/10\n",
            "1000/1000 [==============================] - 0s 113us/sample - loss: 11.5045 - acc: 0.1120\n",
            "Epoch 5/10\n",
            "1000/1000 [==============================] - 0s 113us/sample - loss: 11.5018 - acc: 0.1120\n",
            "Epoch 6/10\n",
            "1000/1000 [==============================] - 0s 108us/sample - loss: 11.5004 - acc: 0.1140\n",
            "Epoch 7/10\n",
            "1000/1000 [==============================] - 0s 109us/sample - loss: 11.4989 - acc: 0.1190\n",
            "Epoch 8/10\n",
            "1000/1000 [==============================] - 0s 117us/sample - loss: 11.4974 - acc: 0.1240\n",
            "Epoch 9/10\n",
            "1000/1000 [==============================] - 0s 112us/sample - loss: 11.4963 - acc: 0.1240\n",
            "Epoch 10/10\n",
            "1000/1000 [==============================] - 0s 108us/sample - loss: 11.4953 - acc: 0.1260\n"
          ],
          "name": "stdout"
        },
        {
          "output_type": "execute_result",
          "data": {
            "text/plain": [
              "<tensorflow.python.keras.callbacks.History at 0x7fd425a68e10>"
            ]
          },
          "metadata": {
            "tags": []
          },
          "execution_count": 104
        }
      ]
    },
    {
      "metadata": {
        "id": "LQqsTcVAmx6n",
        "colab_type": "text"
      },
      "cell_type": "markdown",
      "source": [
        "To Visualize the Model"
      ]
    },
    {
      "metadata": {
        "id": "X0OXGmRNmlcu",
        "colab_type": "code",
        "outputId": "5b14a03b-bed3-48f9-fa87-185db4e77414",
        "colab": {
          "base_uri": "https://localhost:8080/",
          "height": 257
        }
      },
      "cell_type": "code",
      "source": [
        "sc_model.summary()"
      ],
      "execution_count": 0,
      "outputs": [
        {
          "output_type": "stream",
          "text": [
            "_________________________________________________________________\n",
            "Layer (type)                 Output Shape              Param #   \n",
            "=================================================================\n",
            "dense_51 (Dense)             multiple                  660       \n",
            "_________________________________________________________________\n",
            "dense_52 (Dense)             multiple                  420       \n",
            "_________________________________________________________________\n",
            "dense_53 (Dense)             multiple                  210       \n",
            "=================================================================\n",
            "Total params: 1,290\n",
            "Trainable params: 1,290\n",
            "Non-trainable params: 0\n",
            "_________________________________________________________________\n"
          ],
          "name": "stdout"
        }
      ]
    },
    {
      "metadata": {
        "id": "HodQOl3xm3G6",
        "colab_type": "code",
        "outputId": "894571f1-0554-4884-d5f3-4592b2c7cb50",
        "colab": {
          "base_uri": "https://localhost:8080/",
          "height": 219
        }
      },
      "cell_type": "code",
      "source": [
        "mod = func_model\n",
        "\n",
        "tf.keras.utils.plot_model(\n",
        "    mod, \n",
        "    to_file='{}.png'.format(mod), \n",
        "    show_shapes=True, \n",
        "    show_layer_names=True\n",
        ")\n",
        "\n",
        "from IPython.display import Image\n",
        "Image(retina=True, filename='{}.png'.format(mod))"
      ],
      "execution_count": 0,
      "outputs": [
        {
          "output_type": "execute_result",
          "data": {
            "image/png": "[encoded data removed]",
            "text/plain": [
              "<IPython.core.display.Image object>"
            ]
          },
          "metadata": {
            "tags": [],
            "image/png": {
              "width": 186,
              "height": 202
            }
          },
          "execution_count": 106
        }
      ]
    },
    {
      "metadata": {
        "id": "X5Ux9LDSA4AL",
        "colab_type": "code",
        "colab": {}
      },
      "cell_type": "code",
      "source": [
        "data2 = pd.read_csv('housing-data.csv')\n",
        "prices = data['price']\n",
        "features = data.drop('price', axis = 1)\n",
        "\n",
        "#features = np.random.random((1000, 32))\n",
        "#labels = np.random.random((1000, 10))"
      ],
      "execution_count": 0,
      "outputs": []
    },
    {
      "metadata": {
        "id": "tRN-zRu1fOQN",
        "colab_type": "text"
      },
      "cell_type": "markdown",
      "source": [
        "# The data, shuffled and split between train and test sets"
      ]
    },
    {
      "metadata": {
        "colab_type": "code",
        "outputId": "4150aa99-ae5d-4877-cffd-d4598bed9c85",
        "id": "Jkb6ctHo_W0G",
        "colab": {
          "base_uri": "https://localhost:8080/",
          "height": 35
        }
      },
      "cell_type": "code",
      "source": [
        "# Import 'train_test_split'\n",
        "from sklearn.model_selection import train_test_split\n",
        "\n",
        "# Shuffle and split the data into training and testing subsets\n",
        "X_train, X_test, y_train, y_test = train_test_split(features, prices, test_size=0.2, random_state = 42)\n",
        "\n",
        "# Success\n",
        "print(\"Training and testing split was successful.\")"
      ],
      "execution_count": 0,
      "outputs": [
        {
          "output_type": "stream",
          "text": [
            "Training and testing split was successful.\n"
          ],
          "name": "stdout"
        }
      ]
    },
    {
      "metadata": {
        "id": "tRq9AkU8fyRz",
        "colab_type": "text"
      },
      "cell_type": "markdown",
      "source": [
        "#    Plot metrics with matplotlib"
      ]
    },
    {
      "metadata": {
        "id": "C-kpQuoT7FbA",
        "colab_type": "code",
        "outputId": "111392db-e80b-46eb-f5b9-2cd43d022999",
        "colab": {
          "base_uri": "https://localhost:8080/",
          "height": 766
        }
      },
      "cell_type": "code",
      "source": [
        "import matplotlib.pyplot as plt\n",
        "import seaborn as sns\n",
        "\n",
        "%matplotlib inline\n",
        "\n",
        "# Calculate and show pairplot\n",
        "sns.pairplot(data, size=2.5)\n",
        "plt.tight_layout()"
      ],
      "execution_count": 0,
      "outputs": [
        {
          "output_type": "stream",
          "text": [
            "/usr/local/lib/python3.6/dist-packages/seaborn/axisgrid.py:2065: UserWarning: The `size` parameter has been renamed to `height`; pleaes update your code.\n",
            "  warnings.warn(msg, UserWarning)\n"
          ],
          "name": "stderr"
        },
        {
          "output_type": "display_data",
          "data": {
            "image/png": "[encoded data removed]",
            "text/plain": [
              "<Figure size 720x720 with 20 Axes>"
            ]
          },
          "metadata": {
            "tags": []
          }
        }
      ]
    },
    {
      "metadata": {
        "id": "an3XhVmW7I93",
        "colab_type": "code",
        "colab": {}
      },
      "cell_type": "code",
      "source": [
        "from sklearn.datasets import make_blobs"
      ],
      "execution_count": 0,
      "outputs": []
    },
    {
      "metadata": {
        "id": "GKRo7U_37OqP",
        "colab_type": "code",
        "colab": {}
      },
      "cell_type": "code",
      "source": [
        "data1 = make_blobs(n_samples = 510,n_features=2,centers=2,random_state=75)"
      ],
      "execution_count": 0,
      "outputs": []
    },
    {
      "metadata": {
        "id": "Ec8mvJeE7UMs",
        "colab_type": "code",
        "outputId": "ea37421e-6b52-442d-ffb6-392f5a1e3a80",
        "colab": {
          "base_uri": "https://localhost:8080/",
          "height": 590
        }
      },
      "cell_type": "code",
      "source": [
        "data1"
      ],
      "execution_count": 0,
      "outputs": [
        {
          "output_type": "execute_result",
          "data": {
            "text/plain": [
              "(array([[  8.35713718,   7.49893947],\n",
              "        [  8.8949831 ,   7.88178761],\n",
              "        [  0.79097675,  -9.98011652],\n",
              "        ...,\n",
              "        [  7.48630542,   7.47045925],\n",
              "        [  1.98906591, -10.75738814],\n",
              "        [  1.32289422,  -6.48525553]]),\n",
              " array([1, 1, 0, 1, 0, 1, 0, 0, 0, 0, 1, 0, 0, 1, 1, 0, 0, 1, 0, 1, 0, 1,\n",
              "        1, 0, 0, 1, 1, 1, 1, 1, 1, 0, 0, 1, 0, 0, 1, 0, 1, 0, 1, 1, 0, 1,\n",
              "        1, 1, 1, 0, 0, 0, 0, 0, 0, 0, 0, 0, 0, 1, 0, 1, 0, 1, 0, 0, 1, 0,\n",
              "        0, 1, 0, 1, 0, 0, 1, 1, 0, 1, 0, 0, 0, 1, 0, 1, 1, 1, 1, 0, 1, 1,\n",
              "        1, 0, 1, 0, 0, 0, 0, 0, 0, 1, 1, 1, 0, 1, 1, 0, 1, 0, 1, 0, 1, 0,\n",
              "        1, 0, 0, 1, 0, 0, 0, 1, 1, 0, 1, 1, 0, 0, 0, 1, 0, 1, 1, 0, 0, 0,\n",
              "        1, 1, 0, 1, 0, 1, 1, 1, 1, 1, 0, 0, 1, 1, 1, 0, 0, 0, 1, 1, 1, 1,\n",
              "        1, 0, 1, 0, 1, 0, 1, 1, 0, 0, 1, 1, 0, 0, 1, 0, 0, 1, 0, 1, 0, 0,\n",
              "        1, 0, 0, 0, 0, 1, 0, 0, 0, 0, 1, 0, 0, 0, 0, 0, 0, 0, 1, 0, 1, 1,\n",
              "        0, 1, 1, 0, 0, 1, 0, 1, 1, 1, 1, 1, 0, 0, 1, 0, 0, 0, 1, 0, 0, 0,\n",
              "        1, 1, 1, 0, 1, 1, 1, 1, 0, 1, 1, 1, 1, 0, 0, 0, 0, 0, 0, 1, 0, 0,\n",
              "        0, 1, 0, 1, 0, 1, 1, 0, 1, 0, 1, 0, 1, 1, 0, 0, 0, 1, 1, 1, 1, 0,\n",
              "        1, 1, 1, 0, 1, 0, 1, 1, 0, 0, 0, 1, 1, 0, 1, 0, 1, 1, 1, 1, 1, 1,\n",
              "        1, 1, 0, 0, 0, 0, 0, 0, 0, 1, 1, 0, 0, 0, 1, 1, 1, 1, 1, 1, 1, 0,\n",
              "        0, 0, 0, 1, 1, 1, 1, 1, 0, 1, 1, 1, 1, 0, 0, 0, 0, 1, 1, 0, 1, 0,\n",
              "        0, 1, 1, 0, 1, 0, 1, 1, 0, 0, 0, 0, 0, 0, 1, 0, 0, 1, 0, 0, 1, 0,\n",
              "        0, 0, 1, 0, 1, 1, 1, 0, 0, 0, 0, 1, 0, 0, 0, 1, 1, 1, 0, 1, 0, 1,\n",
              "        0, 0, 1, 1, 0, 1, 1, 0, 0, 0, 1, 1, 1, 0, 1, 0, 0, 1, 1, 1, 0, 1,\n",
              "        0, 0, 0, 0, 1, 1, 1, 1, 1, 1, 0, 1, 0, 1, 0, 1, 0, 1, 0, 1, 1, 0,\n",
              "        1, 0, 0, 0, 1, 0, 0, 1, 1, 1, 0, 1, 1, 0, 0, 0, 0, 1, 1, 0, 1, 0,\n",
              "        0, 0, 1, 0, 1, 1, 1, 1, 0, 0, 1, 1, 0, 0, 1, 1, 0, 1, 1, 0, 0, 1,\n",
              "        1, 0, 0, 1, 1, 1, 1, 1, 0, 1, 1, 0, 0, 1, 1, 0, 1, 0, 1, 1, 1, 0,\n",
              "        1, 1, 1, 0, 0, 1, 0, 0, 1, 0, 1, 1, 0, 0, 1, 0, 1, 1, 1, 0, 1, 0,\n",
              "        0, 1, 0, 0]))"
            ]
          },
          "metadata": {
            "tags": []
          },
          "execution_count": 115
        }
      ]
    },
    {
      "metadata": {
        "id": "1r500aXG7YDv",
        "colab_type": "code",
        "outputId": "23272e74-f317-4000-da60-afce59341d74",
        "colab": {
          "base_uri": "https://localhost:8080/",
          "height": 287
        }
      },
      "cell_type": "code",
      "source": [
        "features = data1[0]\n",
        "plt.scatter(features[:,0],features[:,1])"
      ],
      "execution_count": 0,
      "outputs": [
        {
          "output_type": "execute_result",
          "data": {
            "text/plain": [
              "<matplotlib.collections.PathCollection at 0x7fd42a63b898>"
            ]
          },
          "metadata": {
            "tags": []
          },
          "execution_count": 116
        },
        {
          "output_type": "display_data",
          "data": {
            "image/png": "[encoded data removed]",
            "text/plain": [
              "<Figure size 432x288 with 1 Axes>"
            ]
          },
          "metadata": {
            "tags": []
          }
        }
      ]
    },
    {
      "metadata": {
        "id": "PXkw1xJE7bAU",
        "colab_type": "code",
        "outputId": "f79b0f62-a50a-4b23-e89c-7602df37c3ff",
        "colab": {
          "base_uri": "https://localhost:8080/",
          "height": 287
        }
      },
      "cell_type": "code",
      "source": [
        "labels = data1[1]\n",
        "plt.scatter(features[:,0],features[:,1],c=labels,cmap='coolwarm')"
      ],
      "execution_count": 0,
      "outputs": [
        {
          "output_type": "execute_result",
          "data": {
            "text/plain": [
              "<matplotlib.collections.PathCollection at 0x7fd4284a6c88>"
            ]
          },
          "metadata": {
            "tags": []
          },
          "execution_count": 117
        },
        {
          "output_type": "display_data",
          "data": {
            "image/png": "[encoded data removed]",
            "text/plain": [
              "<Figure size 432x288 with 1 Axes>"
            ]
          },
          "metadata": {
            "tags": []
          }
        }
      ]
    },
    {
      "metadata": {
        "id": "z6Z9n3-H7dw3",
        "colab_type": "code",
        "outputId": "ef513536-bff9-4fc6-8019-c11f3ef7a559",
        "colab": {
          "base_uri": "https://localhost:8080/",
          "height": 287
        }
      },
      "cell_type": "code",
      "source": [
        "# DRAW A LINE THAT SEPERATES CLASSES\n",
        "x = np.linspace(0,11,10)\n",
        "y = -x + 5\n",
        "plt.scatter(features[:,0],features[:,1],c=labels,cmap='coolwarm')\n",
        "plt.plot(x,y)"
      ],
      "execution_count": 0,
      "outputs": [
        {
          "output_type": "execute_result",
          "data": {
            "text/plain": [
              "[<matplotlib.lines.Line2D at 0x7fd4284cc198>]"
            ]
          },
          "metadata": {
            "tags": []
          },
          "execution_count": 118
        },
        {
          "output_type": "display_data",
          "data": {
            "image/png": "[encoded data removed]",
            "text/plain": [
              "<Figure size 432x288 with 1 Axes>"
            ]
          },
          "metadata": {
            "tags": []
          }
        }
      ]
    },
    {
      "metadata": {
        "id": "d64aVl037gbl",
        "colab_type": "code",
        "colab": {}
      },
      "cell_type": "code",
      "source": [
        "# Make a prediction with weights\n",
        "def predict(row, weights):\n",
        "\tactivation = weights[0]\n",
        "\tfor i in range(len(row)-1):\n",
        "\t\tactivation += weights[i + 1] * row[i]\n",
        "\treturn 1.0 if activation >= 0.0 else 0.0"
      ],
      "execution_count": 0,
      "outputs": []
    },
    {
      "metadata": {
        "id": "w0QsoPcM7lXI",
        "colab_type": "code",
        "colab": {}
      },
      "cell_type": "code",
      "source": [
        "# Estimate Perceptron weights using stochastic gradient descent\n",
        "def train_weights(train, l_rate, n_epoch):\n",
        "\tweights = [0.0 for i in range(len(train[0]))]\n",
        "\tfor epoch in range(n_epoch):\n",
        "\t\tsum_error = 0.0\n",
        "\t\tfor row in train:\n",
        "\t\t\tprediction = predict(row, weights)\n",
        "\t\t\terror = row[-1] - prediction\n",
        "\t\t\tsum_error += error**2\n",
        "\t\t\tweights[0] = weights[0] + l_rate * error\n",
        "\t\t\tfor i in range(len(row)-1):\n",
        "\t\t\t\tweights[i + 1] = weights[i + 1] + l_rate * error * row[i]\n",
        "\t\tprint('>epoch=%d, lrate=%.3f, error=%.3f' % (epoch, l_rate, sum_error))\n",
        "\treturn weights"
      ],
      "execution_count": 0,
      "outputs": []
    },
    {
      "metadata": {
        "id": "5V8bRtRH7ou4",
        "colab_type": "code",
        "colab": {}
      },
      "cell_type": "code",
      "source": [
        "#(x_train, y_train), (x_test, y_test) = datasets.mnist.load_data()\n",
        "def get_data():\n",
        " # the data, shuffled and split between tran and test sets\n",
        "    (X_train, y_train), (X_test, y_test) = mnist.load_data()\n",
        "    X_train = X_train.reshape(60000, 784)[:max_train_samples]\n",
        "    X_test = X_test.reshape(10000, 784)[:max_test_samples]\n",
        "    X_train = X_train.astype(\"float32\") / 255\n",
        "    X_test = X_test.astype(\"float32\") / 255\n",
        "\n",
        "    # convert class vectors to binary class matrices\n",
        "    y_train = y_train[:max_train_samples]\n",
        "    y_test = y_test[:max_test_samples]\n",
        "    Y_train = np_utils.to_categorical(y_train, nb_classes)\n",
        "    Y_test = np_utils.to_categorical(y_test, nb_classes)\n",
        "    test_ids = np.where(y_test == np.array(weighted_class))[0]\n",
        "\n",
        "    return (X_train, Y_train), (X_test, Y_test), test_ids "
      ],
      "execution_count": 0,
      "outputs": []
    },
    {
      "metadata": {
        "id": "hWjtkHc47s0n",
        "colab_type": "code",
        "colab": {}
      },
      "cell_type": "code",
      "source": [
        "def sigmoid(z):\n",
        "    return 1/(1+np.exp(-z))"
      ],
      "execution_count": 0,
      "outputs": []
    },
    {
      "metadata": {
        "id": "cCJkM0t873eC",
        "colab_type": "code",
        "colab": {}
      },
      "cell_type": "code",
      "source": [
        "sample_z = np.linspace(-10,10,100)\n",
        "sample_a = sigmoid(sample_z)"
      ],
      "execution_count": 0,
      "outputs": []
    },
    {
      "metadata": {
        "id": "QwXL2LIU76D7",
        "colab_type": "code",
        "outputId": "b6974d93-657f-46eb-ad2c-670c34f8d478",
        "colab": {
          "base_uri": "https://localhost:8080/",
          "height": 287
        }
      },
      "cell_type": "code",
      "source": [
        "plt.plot(sample_z,sample_a)"
      ],
      "execution_count": 0,
      "outputs": [
        {
          "output_type": "execute_result",
          "data": {
            "text/plain": [
              "[<matplotlib.lines.Line2D at 0x7fd42a7a2978>]"
            ]
          },
          "metadata": {
            "tags": []
          },
          "execution_count": 124
        },
        {
          "output_type": "display_data",
          "data": {
            "image/png": "[encoded data removed]",
            "text/plain": [
              "<Figure size 432x288 with 1 Axes>"
            ]
          },
          "metadata": {
            "tags": []
          }
        }
      ]
    },
    {
      "metadata": {
        "id": "GRCGiYOO8CoS",
        "colab_type": "text"
      },
      "cell_type": "markdown",
      "source": [
        "Defining the Perceptron\n",
        "y=mx+b\n",
        "\n",
        "y=−x+5\n",
        "\n",
        "f1=mf2+b,m=1\n",
        "\n",
        "f1=−f2+5\n",
        "\n",
        "f1+f2−5=0"
      ]
    },
    {
      "metadata": {
        "id": "B7CLXPWw8Gdg",
        "colab_type": "text"
      },
      "cell_type": "markdown",
      "source": [
        "Convert to a Matrix Representation of Features\n",
        "\n",
        "wTx+b=0\n",
        "\n",
        "(1,1)f−5=0\n",
        "\n",
        "Then if the result is > 0 its label 1, if it is less than 0, it is label=0\n"
      ]
    }
  ]
}