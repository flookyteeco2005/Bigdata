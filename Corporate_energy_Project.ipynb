{
  "nbformat": 4,
  "nbformat_minor": 0,
  "metadata": {
    "colab": {
      "name": "Corporate energy Project.ipynb",
      "provenance": [],
      "collapsed_sections": [],
      "include_colab_link": true
    },
    "language_info": {
      "codemirror_mode": {
        "name": "ipython",
        "version": 3
      },
      "file_extension": ".py",
      "mimetype": "text/x-python",
      "name": "python",
      "nbconvert_exporter": "python",
      "pygments_lexer": "ipython3",
      "version": "3.6.5"
    },
    "kernelspec": {
      "name": "python3",
      "display_name": "Python 3"
    },
    "accelerator": "TPU"
  },
  "cells": [
    {
      "cell_type": "markdown",
      "metadata": {
        "id": "view-in-github",
        "colab_type": "text"
      },
      "source": [
        "<a href=\"https://colab.research.google.com/github/flookyteeco2005/Bigdata/blob/master/Corporate_energy_Project.ipynb\" target=\"_parent\"><img src=\"https://colab.research.google.com/assets/colab-badge.svg\" alt=\"Open In Colab\"/></a>"
      ]
    },
    {
      "cell_type": "markdown",
      "metadata": {
        "id": "8Mk7Cn6PU9jt",
        "colab_type": "text"
      },
      "source": [
        "## Introduction\n",
        "\n",
        "In this exercise, you will work with the Calgary *Corporate Energy Consumption* tabular dataset. If you already haven't do so, please download the file entitled `'Corporate_Energy_Consumption.csv'` from D2L. \n",
        "\n",
        "This file has been downloaded from the City of Calgary's [open data portal](https://data.calgary.ca/Environment/Corporate-Energy-Consumption/crbp-innf) and contains information licensed under the Open Government License - City of Calgary."
      ]
    },
    {
      "cell_type": "code",
      "metadata": {
        "id": "ExA7NJXrU9jw",
        "colab_type": "code",
        "colab": {}
      },
      "source": [
        "# Put all your imports here\n",
        "# main libraries\n",
        "import pandas as pd\n",
        "import numpy as np\n",
        "import time\n",
        "import csv\n",
        "import json\n",
        "import requests \n",
        "from keras.utils.np_utils import to_categorical\n",
        "from sklearn.model_selection import ShuffleSplit\n",
        "import matplotlib.pyplot as plt\n",
        "%matplotlib inline\n",
        "\n"
      ],
      "execution_count": 0,
      "outputs": []
    },
    {
      "cell_type": "markdown",
      "metadata": {
        "id": "EPVSjnZ7U9j5",
        "colab_type": "text"
      },
      "source": [
        "### Task 0: Data Reading\n",
        "\n",
        "Read in the dataset into a `pandas` `DataFrame` and display the head and tail of the `DataFrame`. Please take a minute to familiarize yourself with the rows and columns in the dataset.\n",
        " "
      ]
    },
    {
      "cell_type": "code",
      "metadata": {
        "id": "6kTLHjMLXfkX",
        "colab_type": "code",
        "outputId": "b3aa8426-6986-49cd-8c2b-b7de4eec8d7f",
        "colab": {
          "resources": {
            "http://localhost:8080/nbextensions/google.colab/files.js": {
              "data": "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",
              "ok": true,
              "headers": [
                [
                  "content-type",
                  "application/javascript"
                ]
              ],
              "status": 200,
              "status_text": "OK"
            }
          },
          "base_uri": "https://localhost:8080/",
          "height": 77
        }
      },
      "source": [
        "## Solution to Task 0\n",
        "from google.colab import files\n",
        "uploaded = files.upload()\n",
        "\n"
      ],
      "execution_count": 0,
      "outputs": [
        {
          "output_type": "display_data",
          "data": {
            "text/html": [
              "\n",
              "     <input type=\"file\" id=\"files-36525aff-6211-45ab-ae9e-1e90d58b38b8\" name=\"files[]\" multiple disabled />\n",
              "     <output id=\"result-36525aff-6211-45ab-ae9e-1e90d58b38b8\">\n",
              "      Upload widget is only available when the cell has been executed in the\n",
              "      current browser session. Please rerun this cell to enable.\n",
              "      </output>\n",
              "      <script src=\"/nbextensions/google.colab/files.js\"></script> "
            ],
            "text/plain": [
              "<IPython.core.display.HTML object>"
            ]
          },
          "metadata": {
            "tags": []
          }
        },
        {
          "output_type": "stream",
          "text": [
            "Saving Corporate_Energy_Consumption.csv to Corporate_Energy_Consumption (1).csv\n"
          ],
          "name": "stdout"
        }
      ]
    },
    {
      "cell_type": "code",
      "metadata": {
        "id": "fE3ZaSsBaDAk",
        "colab_type": "code",
        "outputId": "84580917-359c-4d03-f3ac-b85687d05f58",
        "colab": {
          "base_uri": "https://localhost:8080/",
          "height": 36
        }
      },
      "source": [
        "import io\n",
        "import os\n",
        "os.getcwd()"
      ],
      "execution_count": 0,
      "outputs": [
        {
          "output_type": "execute_result",
          "data": {
            "text/plain": [
              "'/content'"
            ]
          },
          "metadata": {
            "tags": []
          },
          "execution_count": 3
        }
      ]
    },
    {
      "cell_type": "code",
      "metadata": {
        "id": "vUEiLk7r2_4N",
        "colab_type": "code",
        "outputId": "adbdb066-4a8c-45f6-d07a-f06064a49a0e",
        "colab": {
          "base_uri": "https://localhost:8080/",
          "height": 36
        }
      },
      "source": [
        "os.listdir(os.getcwd())"
      ],
      "execution_count": 0,
      "outputs": [
        {
          "output_type": "execute_result",
          "data": {
            "text/plain": [
              "['.config', 'Corporate_Energy_Consumption.csv', 'sample_data']"
            ]
          },
          "metadata": {
            "tags": []
          },
          "execution_count": 4
        }
      ]
    },
    {
      "cell_type": "code",
      "metadata": {
        "id": "_jxKJML8evf7",
        "colab_type": "code",
        "outputId": "7d60f561-6cc9-41ce-85f4-c559dcdd9a14",
        "colab": {
          "base_uri": "https://localhost:8080/",
          "height": 206
        }
      },
      "source": [
        "##df2 = pd.read_csv(io.BytesIO(uploaded['Corporate_Energy_Consumption.csv']))\n",
        "\n",
        "df2 = pd.read_csv('Corporate_Energy_Consumption.csv')\n",
        "df2.head()"
      ],
      "execution_count": 0,
      "outputs": [
        {
          "output_type": "execute_result",
          "data": {
            "text/html": [
              "<div>\n",
              "<style scoped>\n",
              "    .dataframe tbody tr th:only-of-type {\n",
              "        vertical-align: middle;\n",
              "    }\n",
              "\n",
              "    .dataframe tbody tr th {\n",
              "        vertical-align: top;\n",
              "    }\n",
              "\n",
              "    .dataframe thead th {\n",
              "        text-align: right;\n",
              "    }\n",
              "</style>\n",
              "<table border=\"1\" class=\"dataframe\">\n",
              "  <thead>\n",
              "    <tr style=\"text-align: right;\">\n",
              "      <th></th>\n",
              "      <th>Business Unit Desc</th>\n",
              "      <th>FacilityName</th>\n",
              "      <th>Site ID</th>\n",
              "      <th>FacilityAddress</th>\n",
              "      <th>Energy Description</th>\n",
              "      <th>Year</th>\n",
              "      <th>Month</th>\n",
              "      <th>Total Consumption</th>\n",
              "      <th>Unit</th>\n",
              "    </tr>\n",
              "  </thead>\n",
              "  <tbody>\n",
              "    <tr>\n",
              "      <th>0</th>\n",
              "      <td>Calgary Building Services</td>\n",
              "      <td>EASTLAKE DEPOT</td>\n",
              "      <td>0020006226011</td>\n",
              "      <td>11195 42 ST SE</td>\n",
              "      <td>Electricity</td>\n",
              "      <td>2018</td>\n",
              "      <td>May</td>\n",
              "      <td>28121.0</td>\n",
              "      <td>kWh</td>\n",
              "    </tr>\n",
              "    <tr>\n",
              "      <th>1</th>\n",
              "      <td>Calgary Building Services</td>\n",
              "      <td>EASTLAKE DEPOT</td>\n",
              "      <td>0003045011383</td>\n",
              "      <td>11195 42 ST SE</td>\n",
              "      <td>Natural Gas</td>\n",
              "      <td>2018</td>\n",
              "      <td>May</td>\n",
              "      <td>31.0</td>\n",
              "      <td>GJ</td>\n",
              "    </tr>\n",
              "    <tr>\n",
              "      <th>2</th>\n",
              "      <td>Calgary Fire Department</td>\n",
              "      <td>ATCO VILLAGE (HOUSE)</td>\n",
              "      <td>0020003498361</td>\n",
              "      <td>5821 23 AV SE</td>\n",
              "      <td>Electricity</td>\n",
              "      <td>2018</td>\n",
              "      <td>May</td>\n",
              "      <td>1055.0</td>\n",
              "      <td>kWh</td>\n",
              "    </tr>\n",
              "    <tr>\n",
              "      <th>3</th>\n",
              "      <td>Calgary Fire Department</td>\n",
              "      <td>ATCO VILLAGE (HOUSE)</td>\n",
              "      <td>0020003804625</td>\n",
              "      <td>5821 23 AV SE</td>\n",
              "      <td>Electricity</td>\n",
              "      <td>2018</td>\n",
              "      <td>May</td>\n",
              "      <td>745.0</td>\n",
              "      <td>kWh</td>\n",
              "    </tr>\n",
              "    <tr>\n",
              "      <th>4</th>\n",
              "      <td>Calgary Neighbourhoods</td>\n",
              "      <td>SENIOR SERVICES DIVISION - CITY LINKS</td>\n",
              "      <td>0020003108512</td>\n",
              "      <td>311 34 AV SE</td>\n",
              "      <td>Electricity</td>\n",
              "      <td>2018</td>\n",
              "      <td>May</td>\n",
              "      <td>3862.0</td>\n",
              "      <td>kWh</td>\n",
              "    </tr>\n",
              "  </tbody>\n",
              "</table>\n",
              "</div>"
            ],
            "text/plain": [
              "          Business Unit Desc  ... Unit\n",
              "0  Calgary Building Services  ...  kWh\n",
              "1  Calgary Building Services  ...   GJ\n",
              "2    Calgary Fire Department  ...  kWh\n",
              "3    Calgary Fire Department  ...  kWh\n",
              "4     Calgary Neighbourhoods  ...  kWh\n",
              "\n",
              "[5 rows x 9 columns]"
            ]
          },
          "metadata": {
            "tags": []
          },
          "execution_count": 5
        }
      ]
    },
    {
      "cell_type": "code",
      "metadata": {
        "id": "zBuWdEVrfE2E",
        "colab_type": "code",
        "outputId": "12db7dda-a5d7-4bcf-dd82-bf7dd71ae8f6",
        "colab": {
          "base_uri": "https://localhost:8080/",
          "height": 206
        }
      },
      "source": [
        "df2.tail()"
      ],
      "execution_count": 0,
      "outputs": [
        {
          "output_type": "execute_result",
          "data": {
            "text/html": [
              "<div>\n",
              "<style scoped>\n",
              "    .dataframe tbody tr th:only-of-type {\n",
              "        vertical-align: middle;\n",
              "    }\n",
              "\n",
              "    .dataframe tbody tr th {\n",
              "        vertical-align: top;\n",
              "    }\n",
              "\n",
              "    .dataframe thead th {\n",
              "        text-align: right;\n",
              "    }\n",
              "</style>\n",
              "<table border=\"1\" class=\"dataframe\">\n",
              "  <thead>\n",
              "    <tr style=\"text-align: right;\">\n",
              "      <th></th>\n",
              "      <th>Business Unit Desc</th>\n",
              "      <th>FacilityName</th>\n",
              "      <th>Site ID</th>\n",
              "      <th>FacilityAddress</th>\n",
              "      <th>Energy Description</th>\n",
              "      <th>Year</th>\n",
              "      <th>Month</th>\n",
              "      <th>Total Consumption</th>\n",
              "      <th>Unit</th>\n",
              "    </tr>\n",
              "  </thead>\n",
              "  <tbody>\n",
              "    <tr>\n",
              "      <th>189200</th>\n",
              "      <td>Water Services</td>\n",
              "      <td>STLS69A HERITAGE MEADOWS</td>\n",
              "      <td>0003007575585</td>\n",
              "      <td>50 HERITAGE MEAD WY SE</td>\n",
              "      <td>Natural Gas</td>\n",
              "      <td>2009</td>\n",
              "      <td>Apr</td>\n",
              "      <td>0.0</td>\n",
              "      <td>GJ</td>\n",
              "    </tr>\n",
              "    <tr>\n",
              "      <th>189201</th>\n",
              "      <td>Water Services</td>\n",
              "      <td>STLS74A SOUTH CALGARY</td>\n",
              "      <td>0020006040768</td>\n",
              "      <td>1535 27 AV SW</td>\n",
              "      <td>Electricity</td>\n",
              "      <td>2009</td>\n",
              "      <td>Apr</td>\n",
              "      <td>4375.0</td>\n",
              "      <td>kWh</td>\n",
              "    </tr>\n",
              "    <tr>\n",
              "      <th>189202</th>\n",
              "      <td>Water Services</td>\n",
              "      <td>STLS77A DUFFERIN INDUSTRIAL PARK</td>\n",
              "      <td>0020005290415</td>\n",
              "      <td>6900 112 AV SE</td>\n",
              "      <td>Electricity</td>\n",
              "      <td>2009</td>\n",
              "      <td>Apr</td>\n",
              "      <td>4134.0</td>\n",
              "      <td>kWh</td>\n",
              "    </tr>\n",
              "    <tr>\n",
              "      <th>189203</th>\n",
              "      <td>Water Services</td>\n",
              "      <td>STLS77A DUFFERIN INDUSTRIAL PARK</td>\n",
              "      <td>0003264011138</td>\n",
              "      <td>6900 112 AV SE</td>\n",
              "      <td>Natural Gas</td>\n",
              "      <td>2009</td>\n",
              "      <td>Apr</td>\n",
              "      <td>17.0</td>\n",
              "      <td>GJ</td>\n",
              "    </tr>\n",
              "    <tr>\n",
              "      <th>189204</th>\n",
              "      <td>Water Services</td>\n",
              "      <td>STORM POND - 14 ST SW</td>\n",
              "      <td>0020004440712</td>\n",
              "      <td>17399 14 ST SW</td>\n",
              "      <td>Electricity</td>\n",
              "      <td>2009</td>\n",
              "      <td>Apr</td>\n",
              "      <td>48.0</td>\n",
              "      <td>kWh</td>\n",
              "    </tr>\n",
              "  </tbody>\n",
              "</table>\n",
              "</div>"
            ],
            "text/plain": [
              "       Business Unit Desc  ... Unit\n",
              "189200     Water Services  ...   GJ\n",
              "189201     Water Services  ...  kWh\n",
              "189202     Water Services  ...  kWh\n",
              "189203     Water Services  ...   GJ\n",
              "189204     Water Services  ...  kWh\n",
              "\n",
              "[5 rows x 9 columns]"
            ]
          },
          "metadata": {
            "tags": []
          },
          "execution_count": 6
        }
      ]
    },
    {
      "cell_type": "code",
      "metadata": {
        "id": "5i9bIq3Y_3A4",
        "colab_type": "code",
        "outputId": "2abe04d3-63b6-4466-de51-2562394946c8",
        "colab": {
          "base_uri": "https://localhost:8080/",
          "height": 36
        }
      },
      "source": [
        "# Print the shape of the dataframe \n",
        "print(df2.shape) "
      ],
      "execution_count": 0,
      "outputs": [
        {
          "output_type": "stream",
          "text": [
            "(189205, 9)\n"
          ],
          "name": "stdout"
        }
      ]
    },
    {
      "cell_type": "markdown",
      "metadata": {
        "id": "IHXN3GIVU9kD",
        "colab_type": "text"
      },
      "source": [
        "## Task 1: Cleanup and Organization\n",
        "\n",
        "For this exercise, we will focus on electrical energy consumption data that is recorded in `'kWh'` units, and the 5 year time period 2013-2017.\n",
        "<br>\n",
        "- Cleanup your DataFrame by retaining only the rows where the `'Unit'` column has the entry `'kWh'`. \n",
        "\n",
        "- Additionally, drop all years that are outside the `2013--2017` range. \n",
        "\n",
        "Perform the following tasks on the _resulting_ DataFrame:\n",
        "\n",
        "- Determine and print out the unique entries under the following columns: `'Business Unit Desc'`, `'Energy Description'`, `'Year'` and  `'Unit'`. \n",
        "\n",
        "\n",
        "\n",
        "Convert the `'Month'` column into a suitable numerical or `datetime` format so that the entries can be ordered by month. \n",
        "_(This conversion is not necessary for the subsequent tasks.)_\n",
        "\n",
        "\n",
        "- Print out the unique entries under the `'Month'` column. "
      ]
    },
    {
      "cell_type": "code",
      "metadata": {
        "id": "bSbzIpIvU9kG",
        "colab_type": "code",
        "colab": {}
      },
      "source": [
        "## Solution to Task 1\n",
        "\n",
        "# first filtered out those rows which do not contain any data \n",
        "df2_filtered = df2.dropna(how = 'all')\n"
      ],
      "execution_count": 0,
      "outputs": []
    },
    {
      "cell_type": "code",
      "metadata": {
        "id": "bLB45JIDCIg7",
        "colab_type": "code",
        "outputId": "a70b5dd2-06a5-4258-8be3-127836848423",
        "colab": {
          "base_uri": "https://localhost:8080/",
          "height": 373
        }
      },
      "source": [
        "## Here I printed the df2_filtered and shape after dropping rows that do not contain data\n",
        "print(df2_filtered.head(15))\n",
        "print(df2_filtered.shape) "
      ],
      "execution_count": 0,
      "outputs": [
        {
          "output_type": "stream",
          "text": [
            "           Business Unit Desc  ... Unit\n",
            "0   Calgary Building Services  ...  kWh\n",
            "1   Calgary Building Services  ...   GJ\n",
            "2     Calgary Fire Department  ...  kWh\n",
            "3     Calgary Fire Department  ...  kWh\n",
            "4      Calgary Neighbourhoods  ...  kWh\n",
            "5      Calgary Neighbourhoods  ...   GJ\n",
            "6      Calgary Neighbourhoods  ...  kWh\n",
            "7      Calgary Neighbourhoods  ...   GJ\n",
            "8        Calgary Parking Auth  ...  kWh\n",
            "9        Calgary Parking Auth  ...  kWh\n",
            "10       Calgary Parking Auth  ...   GJ\n",
            "11       Calgary Parking Auth  ...  kWh\n",
            "12       Calgary Parking Auth  ...  kWh\n",
            "13       Calgary Parking Auth  ...   GJ\n",
            "14       Calgary Parking Auth  ...  kWh\n",
            "\n",
            "[15 rows x 9 columns]\n",
            "(189205, 9)\n"
          ],
          "name": "stdout"
        }
      ]
    },
    {
      "cell_type": "markdown",
      "metadata": {
        "id": "u8YhihuXfqZb",
        "colab_type": "text"
      },
      "source": [
        "**From the result you will notice that the shape has changed from (189205, 9) to (142321, 9) columns. It has dropped all rows where Unit are not kWh**"
      ]
    },
    {
      "cell_type": "code",
      "metadata": {
        "id": "-OdPWp6wXlkq",
        "colab_type": "code",
        "outputId": "587156d0-1108-4d28-ca6e-888bcf440f54",
        "colab": {
          "base_uri": "https://localhost:8080/",
          "height": 424
        }
      },
      "source": [
        "# Cleanup your DataFrame by retaining only the rows where the 'Unit' column has the entry 'kWh'.\n",
        "\n",
        "import pandas as pd \n",
        "\n",
        "\n",
        "Corporate_Energy= df2_filtered.loc[df2_filtered['Unit']== 'kWh']\n",
        "\n",
        "Corporate_Energy.to_csv(\"Corporate_Energy.csv\", index=False)\n",
        "Corporate_Energy"
      ],
      "execution_count": 0,
      "outputs": [
        {
          "output_type": "execute_result",
          "data": {
            "text/html": [
              "<div>\n",
              "<style scoped>\n",
              "    .dataframe tbody tr th:only-of-type {\n",
              "        vertical-align: middle;\n",
              "    }\n",
              "\n",
              "    .dataframe tbody tr th {\n",
              "        vertical-align: top;\n",
              "    }\n",
              "\n",
              "    .dataframe thead th {\n",
              "        text-align: right;\n",
              "    }\n",
              "</style>\n",
              "<table border=\"1\" class=\"dataframe\">\n",
              "  <thead>\n",
              "    <tr style=\"text-align: right;\">\n",
              "      <th></th>\n",
              "      <th>Business Unit Desc</th>\n",
              "      <th>FacilityName</th>\n",
              "      <th>Site ID</th>\n",
              "      <th>FacilityAddress</th>\n",
              "      <th>Energy Description</th>\n",
              "      <th>Year</th>\n",
              "      <th>Month</th>\n",
              "      <th>Total Consumption</th>\n",
              "      <th>Unit</th>\n",
              "    </tr>\n",
              "  </thead>\n",
              "  <tbody>\n",
              "    <tr>\n",
              "      <th>0</th>\n",
              "      <td>Calgary Building Services</td>\n",
              "      <td>EASTLAKE DEPOT</td>\n",
              "      <td>0020006226011</td>\n",
              "      <td>11195 42 ST SE</td>\n",
              "      <td>Electricity</td>\n",
              "      <td>2018</td>\n",
              "      <td>May</td>\n",
              "      <td>28121.0</td>\n",
              "      <td>kWh</td>\n",
              "    </tr>\n",
              "    <tr>\n",
              "      <th>2</th>\n",
              "      <td>Calgary Fire Department</td>\n",
              "      <td>ATCO VILLAGE (HOUSE)</td>\n",
              "      <td>0020003498361</td>\n",
              "      <td>5821 23 AV SE</td>\n",
              "      <td>Electricity</td>\n",
              "      <td>2018</td>\n",
              "      <td>May</td>\n",
              "      <td>1055.0</td>\n",
              "      <td>kWh</td>\n",
              "    </tr>\n",
              "    <tr>\n",
              "      <th>3</th>\n",
              "      <td>Calgary Fire Department</td>\n",
              "      <td>ATCO VILLAGE (HOUSE)</td>\n",
              "      <td>0020003804625</td>\n",
              "      <td>5821 23 AV SE</td>\n",
              "      <td>Electricity</td>\n",
              "      <td>2018</td>\n",
              "      <td>May</td>\n",
              "      <td>745.0</td>\n",
              "      <td>kWh</td>\n",
              "    </tr>\n",
              "    <tr>\n",
              "      <th>4</th>\n",
              "      <td>Calgary Neighbourhoods</td>\n",
              "      <td>SENIOR SERVICES DIVISION - CITY LINKS</td>\n",
              "      <td>0020003108512</td>\n",
              "      <td>311 34 AV SE</td>\n",
              "      <td>Electricity</td>\n",
              "      <td>2018</td>\n",
              "      <td>May</td>\n",
              "      <td>3862.0</td>\n",
              "      <td>kWh</td>\n",
              "    </tr>\n",
              "    <tr>\n",
              "      <th>6</th>\n",
              "      <td>Calgary Neighbourhoods</td>\n",
              "      <td>WEST DIVISION - RICHMOND GREEN</td>\n",
              "      <td>0020002374118</td>\n",
              "      <td>2539 33 AV SW</td>\n",
              "      <td>Electricity</td>\n",
              "      <td>2018</td>\n",
              "      <td>May</td>\n",
              "      <td>3911.0</td>\n",
              "      <td>kWh</td>\n",
              "    </tr>\n",
              "    <tr>\n",
              "      <th>...</th>\n",
              "      <td>...</td>\n",
              "      <td>...</td>\n",
              "      <td>...</td>\n",
              "      <td>...</td>\n",
              "      <td>...</td>\n",
              "      <td>...</td>\n",
              "      <td>...</td>\n",
              "      <td>...</td>\n",
              "      <td>...</td>\n",
              "    </tr>\n",
              "    <tr>\n",
              "      <th>189198</th>\n",
              "      <td>Water Services</td>\n",
              "      <td>STLS65A BRISBOIS EAST</td>\n",
              "      <td>0020005432178</td>\n",
              "      <td>A 4039 BRENTWOOD RD NW</td>\n",
              "      <td>Electricity</td>\n",
              "      <td>2009</td>\n",
              "      <td>Apr</td>\n",
              "      <td>831.0</td>\n",
              "      <td>kWh</td>\n",
              "    </tr>\n",
              "    <tr>\n",
              "      <th>189199</th>\n",
              "      <td>Water Services</td>\n",
              "      <td>STLS69A HERITAGE MEADOWS</td>\n",
              "      <td>0020005687910</td>\n",
              "      <td>50 HERITAGE MEAD WY SE</td>\n",
              "      <td>Electricity</td>\n",
              "      <td>2009</td>\n",
              "      <td>Apr</td>\n",
              "      <td>7545.0</td>\n",
              "      <td>kWh</td>\n",
              "    </tr>\n",
              "    <tr>\n",
              "      <th>189201</th>\n",
              "      <td>Water Services</td>\n",
              "      <td>STLS74A SOUTH CALGARY</td>\n",
              "      <td>0020006040768</td>\n",
              "      <td>1535 27 AV SW</td>\n",
              "      <td>Electricity</td>\n",
              "      <td>2009</td>\n",
              "      <td>Apr</td>\n",
              "      <td>4375.0</td>\n",
              "      <td>kWh</td>\n",
              "    </tr>\n",
              "    <tr>\n",
              "      <th>189202</th>\n",
              "      <td>Water Services</td>\n",
              "      <td>STLS77A DUFFERIN INDUSTRIAL PARK</td>\n",
              "      <td>0020005290415</td>\n",
              "      <td>6900 112 AV SE</td>\n",
              "      <td>Electricity</td>\n",
              "      <td>2009</td>\n",
              "      <td>Apr</td>\n",
              "      <td>4134.0</td>\n",
              "      <td>kWh</td>\n",
              "    </tr>\n",
              "    <tr>\n",
              "      <th>189204</th>\n",
              "      <td>Water Services</td>\n",
              "      <td>STORM POND - 14 ST SW</td>\n",
              "      <td>0020004440712</td>\n",
              "      <td>17399 14 ST SW</td>\n",
              "      <td>Electricity</td>\n",
              "      <td>2009</td>\n",
              "      <td>Apr</td>\n",
              "      <td>48.0</td>\n",
              "      <td>kWh</td>\n",
              "    </tr>\n",
              "  </tbody>\n",
              "</table>\n",
              "<p>142321 rows × 9 columns</p>\n",
              "</div>"
            ],
            "text/plain": [
              "               Business Unit Desc  ... Unit\n",
              "0       Calgary Building Services  ...  kWh\n",
              "2         Calgary Fire Department  ...  kWh\n",
              "3         Calgary Fire Department  ...  kWh\n",
              "4          Calgary Neighbourhoods  ...  kWh\n",
              "6          Calgary Neighbourhoods  ...  kWh\n",
              "...                           ...  ...  ...\n",
              "189198             Water Services  ...  kWh\n",
              "189199             Water Services  ...  kWh\n",
              "189201             Water Services  ...  kWh\n",
              "189202             Water Services  ...  kWh\n",
              "189204             Water Services  ...  kWh\n",
              "\n",
              "[142321 rows x 9 columns]"
            ]
          },
          "metadata": {
            "tags": []
          },
          "execution_count": 10
        }
      ]
    },
    {
      "cell_type": "markdown",
      "metadata": {
        "id": "kup6Yp0zgmN1",
        "colab_type": "text"
      },
      "source": [
        "**Now let us check our data We don't have any other unit in our data**"
      ]
    },
    {
      "cell_type": "code",
      "metadata": {
        "id": "MIZY5c3MZsW7",
        "colab_type": "code",
        "outputId": "b14643da-471a-4eef-e530-389f38bd75d9",
        "colab": {
          "base_uri": "https://localhost:8080/",
          "height": 373
        }
      },
      "source": [
        "print(Corporate_Energy.head(15))\n",
        "print(Corporate_Energy.shape) "
      ],
      "execution_count": 0,
      "outputs": [
        {
          "output_type": "stream",
          "text": [
            "           Business Unit Desc  ... Unit\n",
            "0   Calgary Building Services  ...  kWh\n",
            "2     Calgary Fire Department  ...  kWh\n",
            "3     Calgary Fire Department  ...  kWh\n",
            "4      Calgary Neighbourhoods  ...  kWh\n",
            "6      Calgary Neighbourhoods  ...  kWh\n",
            "8        Calgary Parking Auth  ...  kWh\n",
            "9        Calgary Parking Auth  ...  kWh\n",
            "11       Calgary Parking Auth  ...  kWh\n",
            "12       Calgary Parking Auth  ...  kWh\n",
            "14       Calgary Parking Auth  ...  kWh\n",
            "17       Calgary Parking Auth  ...  kWh\n",
            "19       Calgary Parking Auth  ...  kWh\n",
            "21       Calgary Parking Auth  ...  kWh\n",
            "24       Calgary Parking Auth  ...  kWh\n",
            "25       Calgary Parking Auth  ...  kWh\n",
            "\n",
            "[15 rows x 9 columns]\n",
            "(142321, 9)\n"
          ],
          "name": "stdout"
        }
      ]
    },
    {
      "cell_type": "code",
      "metadata": {
        "id": "ujMDGOUI7fGb",
        "colab_type": "code",
        "outputId": "cd54c39c-9a52-4492-cd0b-2fc5c90a96b6",
        "colab": {
          "base_uri": "https://localhost:8080/",
          "height": 204
        }
      },
      "source": [
        "Corporate_Energy.iloc[10]"
      ],
      "execution_count": 0,
      "outputs": [
        {
          "output_type": "execute_result",
          "data": {
            "text/plain": [
              "Business Unit Desc                             Calgary Parking Auth\n",
              "FacilityName          PARKING - DOWNTOWN PARKADE - LOT 36 CITY HALL\n",
              "Site ID                                               0020006955055\n",
              "FacilityAddress                                         322 9 AV SE\n",
              "Energy Description                                      Electricity\n",
              "Year                                                           2018\n",
              "Month                                                           May\n",
              "Total Consumption                                             57456\n",
              "Unit                                                            kWh\n",
              "Name: 17, dtype: object"
            ]
          },
          "metadata": {
            "tags": []
          },
          "execution_count": 12
        }
      ]
    },
    {
      "cell_type": "markdown",
      "metadata": {
        "id": "7GwGyMzwiPdB",
        "colab_type": "text"
      },
      "source": [
        "Below we will use .describe() function to computes a summary of statistics pertaining to the DataFrame columns. This function gives the mean, std and IQR values. And, function excludes the character columns and given summary about numeric columns."
      ]
    },
    {
      "cell_type": "code",
      "metadata": {
        "id": "FVxY9SK1-KHI",
        "colab_type": "code",
        "outputId": "50c55f6d-3ff3-45ed-c768-1827e7c02761",
        "colab": {
          "base_uri": "https://localhost:8080/",
          "height": 300
        }
      },
      "source": [
        "Corporate_Energy.describe()"
      ],
      "execution_count": 0,
      "outputs": [
        {
          "output_type": "execute_result",
          "data": {
            "text/html": [
              "<div>\n",
              "<style scoped>\n",
              "    .dataframe tbody tr th:only-of-type {\n",
              "        vertical-align: middle;\n",
              "    }\n",
              "\n",
              "    .dataframe tbody tr th {\n",
              "        vertical-align: top;\n",
              "    }\n",
              "\n",
              "    .dataframe thead th {\n",
              "        text-align: right;\n",
              "    }\n",
              "</style>\n",
              "<table border=\"1\" class=\"dataframe\">\n",
              "  <thead>\n",
              "    <tr style=\"text-align: right;\">\n",
              "      <th></th>\n",
              "      <th>Year</th>\n",
              "      <th>Total Consumption</th>\n",
              "    </tr>\n",
              "  </thead>\n",
              "  <tbody>\n",
              "    <tr>\n",
              "      <th>count</th>\n",
              "      <td>142321.000000</td>\n",
              "      <td>1.422790e+05</td>\n",
              "    </tr>\n",
              "    <tr>\n",
              "      <th>mean</th>\n",
              "      <td>2013.599110</td>\n",
              "      <td>3.083439e+04</td>\n",
              "    </tr>\n",
              "    <tr>\n",
              "      <th>std</th>\n",
              "      <td>2.721764</td>\n",
              "      <td>2.387706e+05</td>\n",
              "    </tr>\n",
              "    <tr>\n",
              "      <th>min</th>\n",
              "      <td>2009.000000</td>\n",
              "      <td>0.000000e+00</td>\n",
              "    </tr>\n",
              "    <tr>\n",
              "      <th>25%</th>\n",
              "      <td>2011.000000</td>\n",
              "      <td>9.000000e+00</td>\n",
              "    </tr>\n",
              "    <tr>\n",
              "      <th>50%</th>\n",
              "      <td>2014.000000</td>\n",
              "      <td>6.250000e+02</td>\n",
              "    </tr>\n",
              "    <tr>\n",
              "      <th>75%</th>\n",
              "      <td>2016.000000</td>\n",
              "      <td>7.491500e+03</td>\n",
              "    </tr>\n",
              "    <tr>\n",
              "      <th>max</th>\n",
              "      <td>2018.000000</td>\n",
              "      <td>1.112766e+07</td>\n",
              "    </tr>\n",
              "  </tbody>\n",
              "</table>\n",
              "</div>"
            ],
            "text/plain": [
              "                Year  Total Consumption\n",
              "count  142321.000000       1.422790e+05\n",
              "mean     2013.599110       3.083439e+04\n",
              "std         2.721764       2.387706e+05\n",
              "min      2009.000000       0.000000e+00\n",
              "25%      2011.000000       9.000000e+00\n",
              "50%      2014.000000       6.250000e+02\n",
              "75%      2016.000000       7.491500e+03\n",
              "max      2018.000000       1.112766e+07"
            ]
          },
          "metadata": {
            "tags": []
          },
          "execution_count": 13
        }
      ]
    },
    {
      "cell_type": "markdown",
      "metadata": {
        "id": "osoDEQC0iqv4",
        "colab_type": "text"
      },
      "source": [
        "** Additionally, drop all years that are outside the 2013--2017 range. **"
      ]
    },
    {
      "cell_type": "code",
      "metadata": {
        "id": "zy-0vhjDEO4b",
        "colab_type": "code",
        "outputId": "8281859e-8794-438f-a5ef-ce80eeef87fe",
        "colab": {
          "base_uri": "https://localhost:8080/",
          "height": 488
        }
      },
      "source": [
        "import pandas as pd \n",
        "\n",
        "date_from = 2013\n",
        "date_to = 2017\n",
        "\n",
        "Corporate_Energy = Corporate_Energy[(Corporate_Energy['Year'] >= date_from ) & (Corporate_Energy['Year'] <= date_to)]\n",
        "\n",
        "\n",
        "print('Total number of Corporate_Energy records: {}'.format(len(Corporate_Energy.index)))\n",
        "print(Corporate_Energy.head())\n",
        "print(Corporate_Energy.shape) \n",
        "Corporate_Energy.describe()"
      ],
      "execution_count": 0,
      "outputs": [
        {
          "output_type": "stream",
          "text": [
            "Total number of Corporate_Energy records: 80547\n",
            "     Business Unit Desc      FacilityName  ... Total Consumption Unit\n",
            "2590      Calgary Parks            CRA062  ...               0.0  kWh\n",
            "3128      Calgary Parks            TUS604  ...               0.0  kWh\n",
            "3274      Calgary Parks            TUS607  ...               0.0  kWh\n",
            "3722              Roads  TRAFFIC BUILDING  ...            6288.0  kWh\n",
            "4481      Calgary Parks            RAM021  ...               9.0  kWh\n",
            "\n",
            "[5 rows x 9 columns]\n",
            "(80547, 9)\n"
          ],
          "name": "stdout"
        },
        {
          "output_type": "execute_result",
          "data": {
            "text/html": [
              "<div>\n",
              "<style scoped>\n",
              "    .dataframe tbody tr th:only-of-type {\n",
              "        vertical-align: middle;\n",
              "    }\n",
              "\n",
              "    .dataframe tbody tr th {\n",
              "        vertical-align: top;\n",
              "    }\n",
              "\n",
              "    .dataframe thead th {\n",
              "        text-align: right;\n",
              "    }\n",
              "</style>\n",
              "<table border=\"1\" class=\"dataframe\">\n",
              "  <thead>\n",
              "    <tr style=\"text-align: right;\">\n",
              "      <th></th>\n",
              "      <th>Year</th>\n",
              "      <th>Total Consumption</th>\n",
              "    </tr>\n",
              "  </thead>\n",
              "  <tbody>\n",
              "    <tr>\n",
              "      <th>count</th>\n",
              "      <td>80547.000000</td>\n",
              "      <td>8.052100e+04</td>\n",
              "    </tr>\n",
              "    <tr>\n",
              "      <th>mean</th>\n",
              "      <td>2015.025861</td>\n",
              "      <td>2.897190e+04</td>\n",
              "    </tr>\n",
              "    <tr>\n",
              "      <th>std</th>\n",
              "      <td>1.401865</td>\n",
              "      <td>2.272732e+05</td>\n",
              "    </tr>\n",
              "    <tr>\n",
              "      <th>min</th>\n",
              "      <td>2013.000000</td>\n",
              "      <td>0.000000e+00</td>\n",
              "    </tr>\n",
              "    <tr>\n",
              "      <th>25%</th>\n",
              "      <td>2014.000000</td>\n",
              "      <td>9.000000e+00</td>\n",
              "    </tr>\n",
              "    <tr>\n",
              "      <th>50%</th>\n",
              "      <td>2015.000000</td>\n",
              "      <td>4.670000e+02</td>\n",
              "    </tr>\n",
              "    <tr>\n",
              "      <th>75%</th>\n",
              "      <td>2016.000000</td>\n",
              "      <td>7.077000e+03</td>\n",
              "    </tr>\n",
              "    <tr>\n",
              "      <th>max</th>\n",
              "      <td>2017.000000</td>\n",
              "      <td>1.112766e+07</td>\n",
              "    </tr>\n",
              "  </tbody>\n",
              "</table>\n",
              "</div>"
            ],
            "text/plain": [
              "               Year  Total Consumption\n",
              "count  80547.000000       8.052100e+04\n",
              "mean    2015.025861       2.897190e+04\n",
              "std        1.401865       2.272732e+05\n",
              "min     2013.000000       0.000000e+00\n",
              "25%     2014.000000       9.000000e+00\n",
              "50%     2015.000000       4.670000e+02\n",
              "75%     2016.000000       7.077000e+03\n",
              "max     2017.000000       1.112766e+07"
            ]
          },
          "metadata": {
            "tags": []
          },
          "execution_count": 14
        }
      ]
    },
    {
      "cell_type": "code",
      "metadata": {
        "id": "cmS7uKI8j72B",
        "colab_type": "code",
        "outputId": "c5127198-4e5b-4a8d-ef22-194cbf3e87eb",
        "colab": {
          "base_uri": "https://localhost:8080/",
          "height": 81
        }
      },
      "source": [
        "pd.DataFrame(Corporate_Energy.dtypes,columns=['Data type']).T"
      ],
      "execution_count": 0,
      "outputs": [
        {
          "output_type": "execute_result",
          "data": {
            "text/html": [
              "<div>\n",
              "<style scoped>\n",
              "    .dataframe tbody tr th:only-of-type {\n",
              "        vertical-align: middle;\n",
              "    }\n",
              "\n",
              "    .dataframe tbody tr th {\n",
              "        vertical-align: top;\n",
              "    }\n",
              "\n",
              "    .dataframe thead th {\n",
              "        text-align: right;\n",
              "    }\n",
              "</style>\n",
              "<table border=\"1\" class=\"dataframe\">\n",
              "  <thead>\n",
              "    <tr style=\"text-align: right;\">\n",
              "      <th></th>\n",
              "      <th>Business Unit Desc</th>\n",
              "      <th>FacilityName</th>\n",
              "      <th>Site ID</th>\n",
              "      <th>FacilityAddress</th>\n",
              "      <th>Energy Description</th>\n",
              "      <th>Year</th>\n",
              "      <th>Month</th>\n",
              "      <th>Total Consumption</th>\n",
              "      <th>Unit</th>\n",
              "    </tr>\n",
              "  </thead>\n",
              "  <tbody>\n",
              "    <tr>\n",
              "      <th>Data type</th>\n",
              "      <td>object</td>\n",
              "      <td>object</td>\n",
              "      <td>object</td>\n",
              "      <td>object</td>\n",
              "      <td>object</td>\n",
              "      <td>int64</td>\n",
              "      <td>object</td>\n",
              "      <td>float64</td>\n",
              "      <td>object</td>\n",
              "    </tr>\n",
              "  </tbody>\n",
              "</table>\n",
              "</div>"
            ],
            "text/plain": [
              "          Business Unit Desc FacilityName  ... Total Consumption    Unit\n",
              "Data type             object       object  ...           float64  object\n",
              "\n",
              "[1 rows x 9 columns]"
            ]
          },
          "metadata": {
            "tags": []
          },
          "execution_count": 231
        }
      ]
    },
    {
      "cell_type": "code",
      "metadata": {
        "id": "VdmA9YUK0rsU",
        "colab_type": "code",
        "outputId": "ce881d5e-56bc-4892-ad1b-2f3f38d0152c",
        "colab": {
          "base_uri": "https://localhost:8080/",
          "height": 225
        }
      },
      "source": [
        "\n",
        "print(Corporate_Energy.shape) \n",
        "Corporate_Energy.head()\n"
      ],
      "execution_count": 0,
      "outputs": [
        {
          "output_type": "stream",
          "text": [
            "(80547, 9)\n"
          ],
          "name": "stdout"
        },
        {
          "output_type": "execute_result",
          "data": {
            "text/html": [
              "<div>\n",
              "<style scoped>\n",
              "    .dataframe tbody tr th:only-of-type {\n",
              "        vertical-align: middle;\n",
              "    }\n",
              "\n",
              "    .dataframe tbody tr th {\n",
              "        vertical-align: top;\n",
              "    }\n",
              "\n",
              "    .dataframe thead th {\n",
              "        text-align: right;\n",
              "    }\n",
              "</style>\n",
              "<table border=\"1\" class=\"dataframe\">\n",
              "  <thead>\n",
              "    <tr style=\"text-align: right;\">\n",
              "      <th></th>\n",
              "      <th>Business Unit Desc</th>\n",
              "      <th>FacilityName</th>\n",
              "      <th>Site ID</th>\n",
              "      <th>FacilityAddress</th>\n",
              "      <th>Energy Description</th>\n",
              "      <th>Year</th>\n",
              "      <th>Month</th>\n",
              "      <th>Total Consumption</th>\n",
              "      <th>Unit</th>\n",
              "    </tr>\n",
              "  </thead>\n",
              "  <tbody>\n",
              "    <tr>\n",
              "      <th>2590</th>\n",
              "      <td>Calgary Parks</td>\n",
              "      <td>CRA062</td>\n",
              "      <td>0020006474122</td>\n",
              "      <td>41 CRANARCH GV SE</td>\n",
              "      <td>Electricity</td>\n",
              "      <td>2017</td>\n",
              "      <td>Sep</td>\n",
              "      <td>0.0</td>\n",
              "      <td>kWh</td>\n",
              "    </tr>\n",
              "    <tr>\n",
              "      <th>3128</th>\n",
              "      <td>Calgary Parks</td>\n",
              "      <td>TUS604</td>\n",
              "      <td>0020005539722</td>\n",
              "      <td>944 TUSCANY DR NW</td>\n",
              "      <td>Electricity</td>\n",
              "      <td>2017</td>\n",
              "      <td>Feb</td>\n",
              "      <td>0.0</td>\n",
              "      <td>kWh</td>\n",
              "    </tr>\n",
              "    <tr>\n",
              "      <th>3274</th>\n",
              "      <td>Calgary Parks</td>\n",
              "      <td>TUS607</td>\n",
              "      <td>0020005384571</td>\n",
              "      <td>170 TUSCANY WY NW</td>\n",
              "      <td>Electricity</td>\n",
              "      <td>2017</td>\n",
              "      <td>Feb</td>\n",
              "      <td>0.0</td>\n",
              "      <td>kWh</td>\n",
              "    </tr>\n",
              "    <tr>\n",
              "      <th>3722</th>\n",
              "      <td>Roads</td>\n",
              "      <td>TRAFFIC BUILDING</td>\n",
              "      <td>0020003612065</td>\n",
              "      <td>938 32 AV NE</td>\n",
              "      <td>Electricity</td>\n",
              "      <td>2015</td>\n",
              "      <td>Nov</td>\n",
              "      <td>6288.0</td>\n",
              "      <td>kWh</td>\n",
              "    </tr>\n",
              "    <tr>\n",
              "      <th>4481</th>\n",
              "      <td>Calgary Parks</td>\n",
              "      <td>RAM021</td>\n",
              "      <td>0020006186276</td>\n",
              "      <td>1120 10 ST SE</td>\n",
              "      <td>Electricity</td>\n",
              "      <td>2015</td>\n",
              "      <td>May</td>\n",
              "      <td>9.0</td>\n",
              "      <td>kWh</td>\n",
              "    </tr>\n",
              "  </tbody>\n",
              "</table>\n",
              "</div>"
            ],
            "text/plain": [
              "     Business Unit Desc      FacilityName  ... Total Consumption Unit\n",
              "2590      Calgary Parks            CRA062  ...               0.0  kWh\n",
              "3128      Calgary Parks            TUS604  ...               0.0  kWh\n",
              "3274      Calgary Parks            TUS607  ...               0.0  kWh\n",
              "3722              Roads  TRAFFIC BUILDING  ...            6288.0  kWh\n",
              "4481      Calgary Parks            RAM021  ...               9.0  kWh\n",
              "\n",
              "[5 rows x 9 columns]"
            ]
          },
          "metadata": {
            "tags": []
          },
          "execution_count": 15
        }
      ]
    },
    {
      "cell_type": "code",
      "metadata": {
        "id": "tNMBztP3FlJY",
        "colab_type": "code",
        "colab": {}
      },
      "source": [
        "\n"
      ],
      "execution_count": 0,
      "outputs": []
    },
    {
      "cell_type": "code",
      "metadata": {
        "id": "vqF87m79FoUp",
        "colab_type": "code",
        "outputId": "aeebd432-1a60-42bf-edb9-db37829c6070",
        "colab": {
          "base_uri": "https://localhost:8080/",
          "height": 206
        }
      },
      "source": [
        "Corporate_Energy.tail()"
      ],
      "execution_count": 0,
      "outputs": [
        {
          "output_type": "execute_result",
          "data": {
            "text/html": [
              "<div>\n",
              "<style scoped>\n",
              "    .dataframe tbody tr th:only-of-type {\n",
              "        vertical-align: middle;\n",
              "    }\n",
              "\n",
              "    .dataframe tbody tr th {\n",
              "        vertical-align: top;\n",
              "    }\n",
              "\n",
              "    .dataframe thead th {\n",
              "        text-align: right;\n",
              "    }\n",
              "</style>\n",
              "<table border=\"1\" class=\"dataframe\">\n",
              "  <thead>\n",
              "    <tr style=\"text-align: right;\">\n",
              "      <th></th>\n",
              "      <th>Business Unit Desc</th>\n",
              "      <th>FacilityName</th>\n",
              "      <th>Site ID</th>\n",
              "      <th>FacilityAddress</th>\n",
              "      <th>Energy Description</th>\n",
              "      <th>Year</th>\n",
              "      <th>Month</th>\n",
              "      <th>Total Consumption</th>\n",
              "      <th>Unit</th>\n",
              "    </tr>\n",
              "  </thead>\n",
              "  <tbody>\n",
              "    <tr>\n",
              "      <th>119232</th>\n",
              "      <td>Water Services</td>\n",
              "      <td>STLS69A HERITAGE MEADOWS</td>\n",
              "      <td>0020005687910</td>\n",
              "      <td>50 HERITAGE MEAD WY SE</td>\n",
              "      <td>Electricity</td>\n",
              "      <td>2013</td>\n",
              "      <td>Apr</td>\n",
              "      <td>7297.0</td>\n",
              "      <td>kWh</td>\n",
              "    </tr>\n",
              "    <tr>\n",
              "      <th>119234</th>\n",
              "      <td>Water Services</td>\n",
              "      <td>STLS74A SOUTH CALGARY</td>\n",
              "      <td>0020006040768</td>\n",
              "      <td>1535 27 AV SW</td>\n",
              "      <td>Electricity</td>\n",
              "      <td>2013</td>\n",
              "      <td>Apr</td>\n",
              "      <td>3584.0</td>\n",
              "      <td>kWh</td>\n",
              "    </tr>\n",
              "    <tr>\n",
              "      <th>119235</th>\n",
              "      <td>Water Services</td>\n",
              "      <td>STLS77A DUFFERIN INDUSTRIAL PARK</td>\n",
              "      <td>0020005290415</td>\n",
              "      <td>6900 112 AV SE</td>\n",
              "      <td>Electricity</td>\n",
              "      <td>2013</td>\n",
              "      <td>Apr</td>\n",
              "      <td>2551.0</td>\n",
              "      <td>kWh</td>\n",
              "    </tr>\n",
              "    <tr>\n",
              "      <th>119237</th>\n",
              "      <td>Water Services</td>\n",
              "      <td>STORM POND - 14 ST SW</td>\n",
              "      <td>0020004440712</td>\n",
              "      <td>17399 14 ST SW</td>\n",
              "      <td>Electricity</td>\n",
              "      <td>2013</td>\n",
              "      <td>Apr</td>\n",
              "      <td>56.0</td>\n",
              "      <td>kWh</td>\n",
              "    </tr>\n",
              "    <tr>\n",
              "      <th>119238</th>\n",
              "      <td>Water Services</td>\n",
              "      <td>STORM POND - 210 AV SE</td>\n",
              "      <td>0040001170175</td>\n",
              "      <td>11955 210 AV SE</td>\n",
              "      <td>Electricity</td>\n",
              "      <td>2013</td>\n",
              "      <td>Apr</td>\n",
              "      <td>26.0</td>\n",
              "      <td>kWh</td>\n",
              "    </tr>\n",
              "  </tbody>\n",
              "</table>\n",
              "</div>"
            ],
            "text/plain": [
              "       Business Unit Desc  ... Unit\n",
              "119232     Water Services  ...  kWh\n",
              "119234     Water Services  ...  kWh\n",
              "119235     Water Services  ...  kWh\n",
              "119237     Water Services  ...  kWh\n",
              "119238     Water Services  ...  kWh\n",
              "\n",
              "[5 rows x 9 columns]"
            ]
          },
          "metadata": {
            "tags": []
          },
          "execution_count": 16
        }
      ]
    },
    {
      "cell_type": "code",
      "metadata": {
        "id": "2rRE4V-gHtKP",
        "colab_type": "code",
        "outputId": "e81866b3-1885-4ca1-a8d2-e4251f1825ea",
        "colab": {
          "base_uri": "https://localhost:8080/",
          "height": 298
        }
      },
      "source": [
        "print(Corporate_Energy.info())"
      ],
      "execution_count": 0,
      "outputs": [
        {
          "output_type": "stream",
          "text": [
            "<class 'pandas.core.frame.DataFrame'>\n",
            "Int64Index: 80547 entries, 2590 to 119238\n",
            "Data columns (total 9 columns):\n",
            "Business Unit Desc    80547 non-null object\n",
            "FacilityName          80547 non-null object\n",
            "Site ID               80547 non-null object\n",
            "FacilityAddress       80547 non-null object\n",
            "Energy Description    80547 non-null object\n",
            "Year                  80547 non-null int64\n",
            "Month                 80547 non-null object\n",
            "Total Consumption     80521 non-null float64\n",
            "Unit                  80547 non-null object\n",
            "dtypes: float64(1), int64(1), object(7)\n",
            "memory usage: 6.1+ MB\n",
            "None\n"
          ],
          "name": "stdout"
        }
      ]
    },
    {
      "cell_type": "markdown",
      "metadata": {
        "id": "H7C4NOvDU9kO",
        "colab_type": "text"
      },
      "source": [
        "Perform the following tasks on the resulting DataFrame:\n",
        "\n",
        "Determine and print out the unique entries under the following columns: 'Business Unit Desc', 'Energy Description', 'Year' and 'Unit'.\n",
        "\n",
        "Convert the 'Month' column into a suitable numerical or datetime format so that the entries can be ordered by month. (This conversion is not necessary for the subsequent tasks.)\n",
        "Print out the unique entries under the 'Month' column.\n"
      ]
    },
    {
      "cell_type": "code",
      "metadata": {
        "id": "inf6fdP3Gx9V",
        "colab_type": "code",
        "outputId": "17626391-8718-4735-d8a6-c77fbba6163f",
        "colab": {
          "base_uri": "https://localhost:8080/",
          "height": 187
        }
      },
      "source": [
        "#Determine and print out the unique entries under the following columns: 'Business Unit Desc', 'Energy Description', 'Year' and 'Unit'. \n",
        "\n",
        "df_biz= Corporate_Energy['Business Unit Desc'].unique().tolist()\n",
        "df_desc= Corporate_Energy['Energy Description'].unique()\n",
        "df_year= Corporate_Energy['Year'].unique()\n",
        "df_unit= Corporate_Energy['Unit'].unique()\n",
        "\n",
        "print(\"Business Unit Desc:\" )\n",
        "print (sorted(df_biz))\n",
        "print(\"Energy Description:\" )\n",
        "print( df_desc )\n",
        "print(\"Year:\" )\n",
        "print(sorted(df_year ))\n",
        "print(\"Unit:\" )\n",
        "print( df_unit )"
      ],
      "execution_count": 0,
      "outputs": [
        {
          "output_type": "stream",
          "text": [
            "Business Unit Desc:\n",
            "['CPS - Bureaus', 'Calgary Building Services', 'Calgary Comm Standards', 'Calgary Fire Department', 'Calgary Housing', 'Calgary Neighbourhoods', 'Calgary Parking Auth', 'Calgary Parks', 'Calgary Recreation', 'Calgary Transit', 'Facility Management', 'Green Line', 'Information Technology', 'Real Estate and Dev Serv', 'Roads', 'Transportation Infrastructure', 'Transportation Planning', 'Waste - Recycling Services', 'Water Resources', 'Water Services']\n",
            "Energy Description:\n",
            "['Electricity' 'Solar Power']\n",
            "Year:\n",
            "[2013, 2014, 2015, 2016, 2017]\n",
            "Unit:\n",
            "['kWh']\n"
          ],
          "name": "stdout"
        }
      ]
    },
    {
      "cell_type": "markdown",
      "metadata": {
        "id": "fXBMYAPTwGzX",
        "colab_type": "text"
      },
      "source": [
        "Convert the 'Month' column into a suitable numeric or datetime format so that the entries can be ordered by month. "
      ]
    },
    {
      "cell_type": "code",
      "metadata": {
        "id": "dqyf1w5uua5r",
        "colab_type": "code",
        "outputId": "cf1fe8ac-8255-4388-870d-938aa584553a",
        "colab": {
          "base_uri": "https://localhost:8080/",
          "height": 536
        }
      },
      "source": [
        "from datetime import date\n",
        "\n",
        "d = {'Jan':1, 'Feb':2, 'Mar':3, 'Apr':4, 'May':5, 'Jun':6, 'Jul':7, 'Aug':8, 'Sep':9, 'Oct':10, 'Nov':11, 'Dec':12}\n",
        "\n",
        "Corporate_Energy.Month = Corporate_Energy.Month.map(d)\n",
        "\n",
        "df7= Corporate_Energy[['Business Unit Desc', 'Energy Description', 'Year', 'Month', 'Unit']]\n",
        "\n",
        "df7.to_csv(\"Corporate_Energy_month_convert.csv\", index=False)\n",
        "\n",
        "df7\n",
        "\n",
        "\n",
        "\n",
        "\n",
        "\n",
        "\n"
      ],
      "execution_count": 0,
      "outputs": [
        {
          "output_type": "stream",
          "text": [
            "/usr/local/lib/python3.6/dist-packages/pandas/core/generic.py:5208: SettingWithCopyWarning: \n",
            "A value is trying to be set on a copy of a slice from a DataFrame.\n",
            "Try using .loc[row_indexer,col_indexer] = value instead\n",
            "\n",
            "See the caveats in the documentation: http://pandas.pydata.org/pandas-docs/stable/user_guide/indexing.html#returning-a-view-versus-a-copy\n",
            "  self[name] = value\n"
          ],
          "name": "stderr"
        },
        {
          "output_type": "execute_result",
          "data": {
            "text/html": [
              "<div>\n",
              "<style scoped>\n",
              "    .dataframe tbody tr th:only-of-type {\n",
              "        vertical-align: middle;\n",
              "    }\n",
              "\n",
              "    .dataframe tbody tr th {\n",
              "        vertical-align: top;\n",
              "    }\n",
              "\n",
              "    .dataframe thead th {\n",
              "        text-align: right;\n",
              "    }\n",
              "</style>\n",
              "<table border=\"1\" class=\"dataframe\">\n",
              "  <thead>\n",
              "    <tr style=\"text-align: right;\">\n",
              "      <th></th>\n",
              "      <th>Business Unit Desc</th>\n",
              "      <th>Energy Description</th>\n",
              "      <th>Year</th>\n",
              "      <th>Month</th>\n",
              "      <th>Unit</th>\n",
              "    </tr>\n",
              "  </thead>\n",
              "  <tbody>\n",
              "    <tr>\n",
              "      <th>2590</th>\n",
              "      <td>Calgary Parks</td>\n",
              "      <td>Electricity</td>\n",
              "      <td>2017</td>\n",
              "      <td>9</td>\n",
              "      <td>kWh</td>\n",
              "    </tr>\n",
              "    <tr>\n",
              "      <th>3128</th>\n",
              "      <td>Calgary Parks</td>\n",
              "      <td>Electricity</td>\n",
              "      <td>2017</td>\n",
              "      <td>2</td>\n",
              "      <td>kWh</td>\n",
              "    </tr>\n",
              "    <tr>\n",
              "      <th>3274</th>\n",
              "      <td>Calgary Parks</td>\n",
              "      <td>Electricity</td>\n",
              "      <td>2017</td>\n",
              "      <td>2</td>\n",
              "      <td>kWh</td>\n",
              "    </tr>\n",
              "    <tr>\n",
              "      <th>3722</th>\n",
              "      <td>Roads</td>\n",
              "      <td>Electricity</td>\n",
              "      <td>2015</td>\n",
              "      <td>11</td>\n",
              "      <td>kWh</td>\n",
              "    </tr>\n",
              "    <tr>\n",
              "      <th>4481</th>\n",
              "      <td>Calgary Parks</td>\n",
              "      <td>Electricity</td>\n",
              "      <td>2015</td>\n",
              "      <td>5</td>\n",
              "      <td>kWh</td>\n",
              "    </tr>\n",
              "    <tr>\n",
              "      <th>...</th>\n",
              "      <td>...</td>\n",
              "      <td>...</td>\n",
              "      <td>...</td>\n",
              "      <td>...</td>\n",
              "      <td>...</td>\n",
              "    </tr>\n",
              "    <tr>\n",
              "      <th>119232</th>\n",
              "      <td>Water Services</td>\n",
              "      <td>Electricity</td>\n",
              "      <td>2013</td>\n",
              "      <td>4</td>\n",
              "      <td>kWh</td>\n",
              "    </tr>\n",
              "    <tr>\n",
              "      <th>119234</th>\n",
              "      <td>Water Services</td>\n",
              "      <td>Electricity</td>\n",
              "      <td>2013</td>\n",
              "      <td>4</td>\n",
              "      <td>kWh</td>\n",
              "    </tr>\n",
              "    <tr>\n",
              "      <th>119235</th>\n",
              "      <td>Water Services</td>\n",
              "      <td>Electricity</td>\n",
              "      <td>2013</td>\n",
              "      <td>4</td>\n",
              "      <td>kWh</td>\n",
              "    </tr>\n",
              "    <tr>\n",
              "      <th>119237</th>\n",
              "      <td>Water Services</td>\n",
              "      <td>Electricity</td>\n",
              "      <td>2013</td>\n",
              "      <td>4</td>\n",
              "      <td>kWh</td>\n",
              "    </tr>\n",
              "    <tr>\n",
              "      <th>119238</th>\n",
              "      <td>Water Services</td>\n",
              "      <td>Electricity</td>\n",
              "      <td>2013</td>\n",
              "      <td>4</td>\n",
              "      <td>kWh</td>\n",
              "    </tr>\n",
              "  </tbody>\n",
              "</table>\n",
              "<p>80547 rows × 5 columns</p>\n",
              "</div>"
            ],
            "text/plain": [
              "       Business Unit Desc Energy Description  Year  Month Unit\n",
              "2590        Calgary Parks        Electricity  2017      9  kWh\n",
              "3128        Calgary Parks        Electricity  2017      2  kWh\n",
              "3274        Calgary Parks        Electricity  2017      2  kWh\n",
              "3722                Roads        Electricity  2015     11  kWh\n",
              "4481        Calgary Parks        Electricity  2015      5  kWh\n",
              "...                   ...                ...   ...    ...  ...\n",
              "119232     Water Services        Electricity  2013      4  kWh\n",
              "119234     Water Services        Electricity  2013      4  kWh\n",
              "119235     Water Services        Electricity  2013      4  kWh\n",
              "119237     Water Services        Electricity  2013      4  kWh\n",
              "119238     Water Services        Electricity  2013      4  kWh\n",
              "\n",
              "[80547 rows x 5 columns]"
            ]
          },
          "metadata": {
            "tags": []
          },
          "execution_count": 19
        }
      ]
    },
    {
      "cell_type": "code",
      "metadata": {
        "id": "42M106v9U9kR",
        "colab_type": "code",
        "outputId": "87dde60a-714e-4bbe-9205-ce1085002394",
        "colab": {
          "base_uri": "https://localhost:8080/",
          "height": 206
        }
      },
      "source": [
        "\n",
        "df7.head()\n"
      ],
      "execution_count": 0,
      "outputs": [
        {
          "output_type": "execute_result",
          "data": {
            "text/html": [
              "<div>\n",
              "<style scoped>\n",
              "    .dataframe tbody tr th:only-of-type {\n",
              "        vertical-align: middle;\n",
              "    }\n",
              "\n",
              "    .dataframe tbody tr th {\n",
              "        vertical-align: top;\n",
              "    }\n",
              "\n",
              "    .dataframe thead th {\n",
              "        text-align: right;\n",
              "    }\n",
              "</style>\n",
              "<table border=\"1\" class=\"dataframe\">\n",
              "  <thead>\n",
              "    <tr style=\"text-align: right;\">\n",
              "      <th></th>\n",
              "      <th>Business Unit Desc</th>\n",
              "      <th>Energy Description</th>\n",
              "      <th>Year</th>\n",
              "      <th>Month</th>\n",
              "      <th>Unit</th>\n",
              "    </tr>\n",
              "  </thead>\n",
              "  <tbody>\n",
              "    <tr>\n",
              "      <th>2590</th>\n",
              "      <td>Calgary Parks</td>\n",
              "      <td>Electricity</td>\n",
              "      <td>2017</td>\n",
              "      <td>9</td>\n",
              "      <td>kWh</td>\n",
              "    </tr>\n",
              "    <tr>\n",
              "      <th>3128</th>\n",
              "      <td>Calgary Parks</td>\n",
              "      <td>Electricity</td>\n",
              "      <td>2017</td>\n",
              "      <td>2</td>\n",
              "      <td>kWh</td>\n",
              "    </tr>\n",
              "    <tr>\n",
              "      <th>3274</th>\n",
              "      <td>Calgary Parks</td>\n",
              "      <td>Electricity</td>\n",
              "      <td>2017</td>\n",
              "      <td>2</td>\n",
              "      <td>kWh</td>\n",
              "    </tr>\n",
              "    <tr>\n",
              "      <th>3722</th>\n",
              "      <td>Roads</td>\n",
              "      <td>Electricity</td>\n",
              "      <td>2015</td>\n",
              "      <td>11</td>\n",
              "      <td>kWh</td>\n",
              "    </tr>\n",
              "    <tr>\n",
              "      <th>4481</th>\n",
              "      <td>Calgary Parks</td>\n",
              "      <td>Electricity</td>\n",
              "      <td>2015</td>\n",
              "      <td>5</td>\n",
              "      <td>kWh</td>\n",
              "    </tr>\n",
              "  </tbody>\n",
              "</table>\n",
              "</div>"
            ],
            "text/plain": [
              "     Business Unit Desc Energy Description  Year  Month Unit\n",
              "2590      Calgary Parks        Electricity  2017      9  kWh\n",
              "3128      Calgary Parks        Electricity  2017      2  kWh\n",
              "3274      Calgary Parks        Electricity  2017      2  kWh\n",
              "3722              Roads        Electricity  2015     11  kWh\n",
              "4481      Calgary Parks        Electricity  2015      5  kWh"
            ]
          },
          "metadata": {
            "tags": []
          },
          "execution_count": 20
        }
      ]
    },
    {
      "cell_type": "code",
      "metadata": {
        "id": "rHwTPV-klh2z",
        "colab_type": "code",
        "outputId": "66feba4d-f4b9-4c1d-b9c9-5e2cdb393cfc",
        "colab": {
          "base_uri": "https://localhost:8080/",
          "height": 206
        }
      },
      "source": [
        "sort_by_month = df7.sort_values('Month',ascending=True)\n",
        "\n",
        "sort_by_month.head()\n",
        "\n"
      ],
      "execution_count": 0,
      "outputs": [
        {
          "output_type": "execute_result",
          "data": {
            "text/html": [
              "<div>\n",
              "<style scoped>\n",
              "    .dataframe tbody tr th:only-of-type {\n",
              "        vertical-align: middle;\n",
              "    }\n",
              "\n",
              "    .dataframe tbody tr th {\n",
              "        vertical-align: top;\n",
              "    }\n",
              "\n",
              "    .dataframe thead th {\n",
              "        text-align: right;\n",
              "    }\n",
              "</style>\n",
              "<table border=\"1\" class=\"dataframe\">\n",
              "  <thead>\n",
              "    <tr style=\"text-align: right;\">\n",
              "      <th></th>\n",
              "      <th>Business Unit Desc</th>\n",
              "      <th>Energy Description</th>\n",
              "      <th>Year</th>\n",
              "      <th>Month</th>\n",
              "      <th>Unit</th>\n",
              "    </tr>\n",
              "  </thead>\n",
              "  <tbody>\n",
              "    <tr>\n",
              "      <th>91605</th>\n",
              "      <td>Water Resources</td>\n",
              "      <td>Electricity</td>\n",
              "      <td>2014</td>\n",
              "      <td>1</td>\n",
              "      <td>kWh</td>\n",
              "    </tr>\n",
              "    <tr>\n",
              "      <th>47858</th>\n",
              "      <td>Calgary Parks</td>\n",
              "      <td>Electricity</td>\n",
              "      <td>2016</td>\n",
              "      <td>1</td>\n",
              "      <td>kWh</td>\n",
              "    </tr>\n",
              "    <tr>\n",
              "      <th>47859</th>\n",
              "      <td>Calgary Parks</td>\n",
              "      <td>Electricity</td>\n",
              "      <td>2016</td>\n",
              "      <td>1</td>\n",
              "      <td>kWh</td>\n",
              "    </tr>\n",
              "    <tr>\n",
              "      <th>47860</th>\n",
              "      <td>Calgary Parks</td>\n",
              "      <td>Electricity</td>\n",
              "      <td>2016</td>\n",
              "      <td>1</td>\n",
              "      <td>kWh</td>\n",
              "    </tr>\n",
              "    <tr>\n",
              "      <th>47861</th>\n",
              "      <td>Calgary Parks</td>\n",
              "      <td>Electricity</td>\n",
              "      <td>2016</td>\n",
              "      <td>1</td>\n",
              "      <td>kWh</td>\n",
              "    </tr>\n",
              "  </tbody>\n",
              "</table>\n",
              "</div>"
            ],
            "text/plain": [
              "      Business Unit Desc Energy Description  Year  Month Unit\n",
              "91605    Water Resources        Electricity  2014      1  kWh\n",
              "47858      Calgary Parks        Electricity  2016      1  kWh\n",
              "47859      Calgary Parks        Electricity  2016      1  kWh\n",
              "47860      Calgary Parks        Electricity  2016      1  kWh\n",
              "47861      Calgary Parks        Electricity  2016      1  kWh"
            ]
          },
          "metadata": {
            "tags": []
          },
          "execution_count": 21
        }
      ]
    },
    {
      "cell_type": "code",
      "metadata": {
        "id": "RUObPOPFk6BM",
        "colab_type": "code",
        "outputId": "93a42747-7bba-4942-f569-2b158ee3b04b",
        "colab": {
          "base_uri": "https://localhost:8080/",
          "height": 206
        }
      },
      "source": [
        "sort_by_month.tail()"
      ],
      "execution_count": 0,
      "outputs": [
        {
          "output_type": "execute_result",
          "data": {
            "text/html": [
              "<div>\n",
              "<style scoped>\n",
              "    .dataframe tbody tr th:only-of-type {\n",
              "        vertical-align: middle;\n",
              "    }\n",
              "\n",
              "    .dataframe tbody tr th {\n",
              "        vertical-align: top;\n",
              "    }\n",
              "\n",
              "    .dataframe thead th {\n",
              "        text-align: right;\n",
              "    }\n",
              "</style>\n",
              "<table border=\"1\" class=\"dataframe\">\n",
              "  <thead>\n",
              "    <tr style=\"text-align: right;\">\n",
              "      <th></th>\n",
              "      <th>Business Unit Desc</th>\n",
              "      <th>Energy Description</th>\n",
              "      <th>Year</th>\n",
              "      <th>Month</th>\n",
              "      <th>Unit</th>\n",
              "    </tr>\n",
              "  </thead>\n",
              "  <tbody>\n",
              "    <tr>\n",
              "      <th>73639</th>\n",
              "      <td>Facility Management</td>\n",
              "      <td>Electricity</td>\n",
              "      <td>2015</td>\n",
              "      <td>12</td>\n",
              "      <td>kWh</td>\n",
              "    </tr>\n",
              "    <tr>\n",
              "      <th>73641</th>\n",
              "      <td>Facility Management</td>\n",
              "      <td>Electricity</td>\n",
              "      <td>2015</td>\n",
              "      <td>12</td>\n",
              "      <td>kWh</td>\n",
              "    </tr>\n",
              "    <tr>\n",
              "      <th>73643</th>\n",
              "      <td>Facility Management</td>\n",
              "      <td>Solar Power</td>\n",
              "      <td>2015</td>\n",
              "      <td>12</td>\n",
              "      <td>kWh</td>\n",
              "    </tr>\n",
              "    <tr>\n",
              "      <th>73616</th>\n",
              "      <td>CPS - Bureaus</td>\n",
              "      <td>Electricity</td>\n",
              "      <td>2015</td>\n",
              "      <td>12</td>\n",
              "      <td>kWh</td>\n",
              "    </tr>\n",
              "    <tr>\n",
              "      <th>95464</th>\n",
              "      <td>Water Services</td>\n",
              "      <td>Electricity</td>\n",
              "      <td>2014</td>\n",
              "      <td>12</td>\n",
              "      <td>kWh</td>\n",
              "    </tr>\n",
              "  </tbody>\n",
              "</table>\n",
              "</div>"
            ],
            "text/plain": [
              "        Business Unit Desc Energy Description  Year  Month Unit\n",
              "73639  Facility Management        Electricity  2015     12  kWh\n",
              "73641  Facility Management        Electricity  2015     12  kWh\n",
              "73643  Facility Management        Solar Power  2015     12  kWh\n",
              "73616        CPS - Bureaus        Electricity  2015     12  kWh\n",
              "95464       Water Services        Electricity  2014     12  kWh"
            ]
          },
          "metadata": {
            "tags": []
          },
          "execution_count": 22
        }
      ]
    },
    {
      "cell_type": "markdown",
      "metadata": {
        "id": "6ydpvcyCU9kW",
        "colab_type": "text"
      },
      "source": [
        "Print out the unique entries under the 'Month' column. (This conversion is not necessary for the subsequent tasks.)"
      ]
    },
    {
      "cell_type": "code",
      "metadata": {
        "id": "Xq-gRb_woAbA",
        "colab_type": "code",
        "outputId": "d112ffb1-478d-4749-eeab-b0297601e932",
        "colab": {
          "base_uri": "https://localhost:8080/",
          "height": 36
        }
      },
      "source": [
        "df_month= sorted(Corporate_Energy['Month'].unique())\n",
        "df_month"
      ],
      "execution_count": 0,
      "outputs": [
        {
          "output_type": "execute_result",
          "data": {
            "text/plain": [
              "[1, 2, 3, 4, 5, 6, 7, 8, 9, 10, 11, 12]"
            ]
          },
          "metadata": {
            "tags": []
          },
          "execution_count": 23
        }
      ]
    },
    {
      "cell_type": "markdown",
      "metadata": {
        "id": "9eqykeVvU9ki",
        "colab_type": "text"
      },
      "source": [
        "## Task 2: Overview\n",
        "\n",
        "Using suitable `pandas` methods\n",
        "\n",
        "- What is the total amount of corporate energy consumption for the time period 2013--2017? Express your answer in Gigawatt-Hour units. \n",
        "(Hint: _To convert from kWh to GWh, divide the final accumulated total by $10^6$_) \n",
        "\n",
        "\n",
        "- For the time period 2013--2017, what percentage of the consumed energy is attributable to solar power? \n",
        "\n",
        "- For the time period 2013--2017, what percentage of the total energy is consumed by 'Roads'? "
      ]
    },
    {
      "cell_type": "code",
      "metadata": {
        "id": "HAqyS_WOrmMA",
        "colab_type": "code",
        "outputId": "d5cfca94-d320-42eb-ddb6-026f4aeefa5c",
        "colab": {
          "base_uri": "https://localhost:8080/",
          "height": 225
        }
      },
      "source": [
        "# Creating the dataframe  \n",
        "\n",
        "from pandas import DataFrame\n",
        "\n",
        "\n",
        "df19= DataFrame.sum(Corporate_Energy['Total Consumption'])\n",
        "print ('Total Amount of Corporate Energy Consumption:', df19)\n",
        "Corporate_Energy.head()"
      ],
      "execution_count": 0,
      "outputs": [
        {
          "output_type": "stream",
          "text": [
            "Total Amount of Corporate Energy Consumption: 2332846439.0\n"
          ],
          "name": "stdout"
        },
        {
          "output_type": "execute_result",
          "data": {
            "text/html": [
              "<div>\n",
              "<style scoped>\n",
              "    .dataframe tbody tr th:only-of-type {\n",
              "        vertical-align: middle;\n",
              "    }\n",
              "\n",
              "    .dataframe tbody tr th {\n",
              "        vertical-align: top;\n",
              "    }\n",
              "\n",
              "    .dataframe thead th {\n",
              "        text-align: right;\n",
              "    }\n",
              "</style>\n",
              "<table border=\"1\" class=\"dataframe\">\n",
              "  <thead>\n",
              "    <tr style=\"text-align: right;\">\n",
              "      <th></th>\n",
              "      <th>Business Unit Desc</th>\n",
              "      <th>FacilityName</th>\n",
              "      <th>Site ID</th>\n",
              "      <th>FacilityAddress</th>\n",
              "      <th>Energy Description</th>\n",
              "      <th>Year</th>\n",
              "      <th>Month</th>\n",
              "      <th>Total Consumption</th>\n",
              "      <th>Unit</th>\n",
              "    </tr>\n",
              "  </thead>\n",
              "  <tbody>\n",
              "    <tr>\n",
              "      <th>2590</th>\n",
              "      <td>Calgary Parks</td>\n",
              "      <td>CRA062</td>\n",
              "      <td>0020006474122</td>\n",
              "      <td>41 CRANARCH GV SE</td>\n",
              "      <td>Electricity</td>\n",
              "      <td>2017</td>\n",
              "      <td>9</td>\n",
              "      <td>0.0</td>\n",
              "      <td>kWh</td>\n",
              "    </tr>\n",
              "    <tr>\n",
              "      <th>3128</th>\n",
              "      <td>Calgary Parks</td>\n",
              "      <td>TUS604</td>\n",
              "      <td>0020005539722</td>\n",
              "      <td>944 TUSCANY DR NW</td>\n",
              "      <td>Electricity</td>\n",
              "      <td>2017</td>\n",
              "      <td>2</td>\n",
              "      <td>0.0</td>\n",
              "      <td>kWh</td>\n",
              "    </tr>\n",
              "    <tr>\n",
              "      <th>3274</th>\n",
              "      <td>Calgary Parks</td>\n",
              "      <td>TUS607</td>\n",
              "      <td>0020005384571</td>\n",
              "      <td>170 TUSCANY WY NW</td>\n",
              "      <td>Electricity</td>\n",
              "      <td>2017</td>\n",
              "      <td>2</td>\n",
              "      <td>0.0</td>\n",
              "      <td>kWh</td>\n",
              "    </tr>\n",
              "    <tr>\n",
              "      <th>3722</th>\n",
              "      <td>Roads</td>\n",
              "      <td>TRAFFIC BUILDING</td>\n",
              "      <td>0020003612065</td>\n",
              "      <td>938 32 AV NE</td>\n",
              "      <td>Electricity</td>\n",
              "      <td>2015</td>\n",
              "      <td>11</td>\n",
              "      <td>6288.0</td>\n",
              "      <td>kWh</td>\n",
              "    </tr>\n",
              "    <tr>\n",
              "      <th>4481</th>\n",
              "      <td>Calgary Parks</td>\n",
              "      <td>RAM021</td>\n",
              "      <td>0020006186276</td>\n",
              "      <td>1120 10 ST SE</td>\n",
              "      <td>Electricity</td>\n",
              "      <td>2015</td>\n",
              "      <td>5</td>\n",
              "      <td>9.0</td>\n",
              "      <td>kWh</td>\n",
              "    </tr>\n",
              "  </tbody>\n",
              "</table>\n",
              "</div>"
            ],
            "text/plain": [
              "     Business Unit Desc      FacilityName  ... Total Consumption Unit\n",
              "2590      Calgary Parks            CRA062  ...               0.0  kWh\n",
              "3128      Calgary Parks            TUS604  ...               0.0  kWh\n",
              "3274      Calgary Parks            TUS607  ...               0.0  kWh\n",
              "3722              Roads  TRAFFIC BUILDING  ...            6288.0  kWh\n",
              "4481      Calgary Parks            RAM021  ...               9.0  kWh\n",
              "\n",
              "[5 rows x 9 columns]"
            ]
          },
          "metadata": {
            "tags": []
          },
          "execution_count": 24
        }
      ]
    },
    {
      "cell_type": "markdown",
      "metadata": {
        "id": "NstfzmLUoezu",
        "colab_type": "text"
      },
      "source": [
        "What is the total amount of corporate energy consumption for the time period 2013--2017? Express your answer in Gigawatt-Hour units. (Hint: To convert from kWh to GWh, divide the final accumulated total by 106) \n",
        "\n",
        "One kilowatt hour converted into gigawatt hour equals = 0.0000010 GWh\n",
        "1 kWh = 0.0000010 GWh"
      ]
    },
    {
      "cell_type": "code",
      "metadata": {
        "id": "aT7ef_zZU9kk",
        "colab_type": "code",
        "outputId": "f8022aab-c08c-4e57-95dd-5dd1d5ab17de",
        "colab": {
          "base_uri": "https://localhost:8080/",
          "height": 36
        }
      },
      "source": [
        "## Solution to Task 2\n",
        "\n",
        "val = Corporate_Energy['Total Consumption'].sum()\n",
        "\n",
        "print('Total Corporate Energy Consumption:', val)\n"
      ],
      "execution_count": 0,
      "outputs": [
        {
          "output_type": "stream",
          "text": [
            "Total Corporate Energy Consumption: 2332846439.0\n"
          ],
          "name": "stdout"
        }
      ]
    },
    {
      "cell_type": "code",
      "metadata": {
        "id": "fQWS-yTwqfWM",
        "colab_type": "code",
        "outputId": "95336726-ac14-4cc7-b63b-aac0473643ff",
        "colab": {
          "base_uri": "https://localhost:8080/",
          "height": 167
        }
      },
      "source": [
        "\n",
        "print('Total number of Corporate_Energy records: {}'.format(len(Corporate_Energy['Total Consumption'].index)))\n",
        "print(Corporate_Energy['Total Consumption'].head())\n",
        "print(Corporate_Energy['Total Consumption'].shape) "
      ],
      "execution_count": 0,
      "outputs": [
        {
          "output_type": "stream",
          "text": [
            "Total number of Corporate_Energy records: 80547\n",
            "2590       0.0\n",
            "3128       0.0\n",
            "3274       0.0\n",
            "3722    6288.0\n",
            "4481       9.0\n",
            "Name: Total Consumption, dtype: float64\n",
            "(80547,)\n"
          ],
          "name": "stdout"
        }
      ]
    },
    {
      "cell_type": "code",
      "metadata": {
        "id": "q5qc6zYgAypK",
        "colab_type": "code",
        "outputId": "b096748d-9aba-48a7-aaeb-c8ef327863b3",
        "colab": {
          "base_uri": "https://localhost:8080/",
          "height": 36
        }
      },
      "source": [
        "#Convertion from from kWh to GWh\n",
        "total_val= df19*0.0000010\n",
        "\n",
        "print('The total amount of corporate energy consumption for the time period 2013--2017:',  total_val,'GWh')"
      ],
      "execution_count": 0,
      "outputs": [
        {
          "output_type": "stream",
          "text": [
            "The total amount of corporate energy consumption for the time period 2013--2017: 2332.846439 GWh\n"
          ],
          "name": "stdout"
        }
      ]
    },
    {
      "cell_type": "markdown",
      "metadata": {
        "id": "BnmxuyJZuUsh",
        "colab_type": "text"
      },
      "source": [
        "For the time period 2013--2017, what percentage of the consumed energy is attributable to solar power? "
      ]
    },
    {
      "cell_type": "code",
      "metadata": {
        "id": "sxzVtIfEU9ku",
        "colab_type": "code",
        "outputId": "9d029235-9fd4-4b77-eb43-9958cb517147",
        "colab": {
          "base_uri": "https://localhost:8080/",
          "height": 528
        }
      },
      "source": [
        "df20= Corporate_Energy.loc[Corporate_Energy['Energy Description']== 'Solar Power']\n",
        "df20"
      ],
      "execution_count": 0,
      "outputs": [
        {
          "output_type": "execute_result",
          "data": {
            "text/html": [
              "<div>\n",
              "<style scoped>\n",
              "    .dataframe tbody tr th:only-of-type {\n",
              "        vertical-align: middle;\n",
              "    }\n",
              "\n",
              "    .dataframe tbody tr th {\n",
              "        vertical-align: top;\n",
              "    }\n",
              "\n",
              "    .dataframe thead th {\n",
              "        text-align: right;\n",
              "    }\n",
              "</style>\n",
              "<table border=\"1\" class=\"dataframe\">\n",
              "  <thead>\n",
              "    <tr style=\"text-align: right;\">\n",
              "      <th></th>\n",
              "      <th>Business Unit Desc</th>\n",
              "      <th>FacilityName</th>\n",
              "      <th>Site ID</th>\n",
              "      <th>FacilityAddress</th>\n",
              "      <th>Energy Description</th>\n",
              "      <th>Year</th>\n",
              "      <th>Month</th>\n",
              "      <th>Total Consumption</th>\n",
              "      <th>Unit</th>\n",
              "    </tr>\n",
              "  </thead>\n",
              "  <tbody>\n",
              "    <tr>\n",
              "      <th>13719</th>\n",
              "      <td>Calgary Recreation</td>\n",
              "      <td>SOUTHLAND LEISURE CENTRE</td>\n",
              "      <td>SLC - SOLAR PV SYSTEM</td>\n",
              "      <td>2000 SOUTHLAND DR SW</td>\n",
              "      <td>Solar Power</td>\n",
              "      <td>2017</td>\n",
              "      <td>9</td>\n",
              "      <td>17389.0</td>\n",
              "      <td>kWh</td>\n",
              "    </tr>\n",
              "    <tr>\n",
              "      <th>14095</th>\n",
              "      <td>Facility Management</td>\n",
              "      <td>BEARSPAW ADMIN &amp; TRUCK GARAGE - FM</td>\n",
              "      <td>BEARSPAW OWC SALT STORE - SOLAR</td>\n",
              "      <td>11444 BEARSPAW DAM RD NW</td>\n",
              "      <td>Solar Power</td>\n",
              "      <td>2017</td>\n",
              "      <td>9</td>\n",
              "      <td>3991.0</td>\n",
              "      <td>kWh</td>\n",
              "    </tr>\n",
              "    <tr>\n",
              "      <th>14113</th>\n",
              "      <td>Facility Management</td>\n",
              "      <td>CORPORATE WAREHOUSE</td>\n",
              "      <td>CORPORATE WAREHOUSE - SOLAR</td>\n",
              "      <td>2340 22 ST NE</td>\n",
              "      <td>Solar Power</td>\n",
              "      <td>2017</td>\n",
              "      <td>9</td>\n",
              "      <td>13671.0</td>\n",
              "      <td>kWh</td>\n",
              "    </tr>\n",
              "    <tr>\n",
              "      <th>14143</th>\n",
              "      <td>Facility Management</td>\n",
              "      <td>FIRE HEADQUARTERS</td>\n",
              "      <td>FIRE HEADQUARTERS - SOLAR</td>\n",
              "      <td>4144 11 ST SE</td>\n",
              "      <td>Solar Power</td>\n",
              "      <td>2017</td>\n",
              "      <td>9</td>\n",
              "      <td>1958.0</td>\n",
              "      <td>kWh</td>\n",
              "    </tr>\n",
              "    <tr>\n",
              "      <th>14152</th>\n",
              "      <td>Facility Management</td>\n",
              "      <td>FIRE STATION 05 - SOUTH CALGARY</td>\n",
              "      <td>FIRE STATION 05 - SOLAR</td>\n",
              "      <td>3129 14 ST SW</td>\n",
              "      <td>Solar Power</td>\n",
              "      <td>2017</td>\n",
              "      <td>9</td>\n",
              "      <td>484.0</td>\n",
              "      <td>kWh</td>\n",
              "    </tr>\n",
              "    <tr>\n",
              "      <th>...</th>\n",
              "      <td>...</td>\n",
              "      <td>...</td>\n",
              "      <td>...</td>\n",
              "      <td>...</td>\n",
              "      <td>...</td>\n",
              "      <td>...</td>\n",
              "      <td>...</td>\n",
              "      <td>...</td>\n",
              "      <td>...</td>\n",
              "    </tr>\n",
              "    <tr>\n",
              "      <th>116841</th>\n",
              "      <td>Facility Management</td>\n",
              "      <td>FIRE STATION 22 - TEMPLE</td>\n",
              "      <td>FIRE STATION 22 - SOLAR</td>\n",
              "      <td>7199 TEMPLE DR NE</td>\n",
              "      <td>Solar Power</td>\n",
              "      <td>2013</td>\n",
              "      <td>8</td>\n",
              "      <td>148.0</td>\n",
              "      <td>kWh</td>\n",
              "    </tr>\n",
              "    <tr>\n",
              "      <th>116854</th>\n",
              "      <td>Facility Management</td>\n",
              "      <td>FIRE STATION 30 - MCKENZIE TOWNE</td>\n",
              "      <td>FIRE STATION 30 - SOLAR</td>\n",
              "      <td>6 MCKENZIE TOWNE GA SE</td>\n",
              "      <td>Solar Power</td>\n",
              "      <td>2013</td>\n",
              "      <td>8</td>\n",
              "      <td>193.0</td>\n",
              "      <td>kWh</td>\n",
              "    </tr>\n",
              "    <tr>\n",
              "      <th>118510</th>\n",
              "      <td>Facility Management</td>\n",
              "      <td>FIRE STATION 08 - ROSSCARROCK</td>\n",
              "      <td>FIRE STATION 08 - SOLAR</td>\n",
              "      <td>1720 45 ST SW</td>\n",
              "      <td>Solar Power</td>\n",
              "      <td>2013</td>\n",
              "      <td>4</td>\n",
              "      <td>NaN</td>\n",
              "      <td>kWh</td>\n",
              "    </tr>\n",
              "    <tr>\n",
              "      <th>118537</th>\n",
              "      <td>Facility Management</td>\n",
              "      <td>FIRE STATION 22 - TEMPLE</td>\n",
              "      <td>FIRE STATION 22 - SOLAR</td>\n",
              "      <td>7199 TEMPLE DR NE</td>\n",
              "      <td>Solar Power</td>\n",
              "      <td>2013</td>\n",
              "      <td>4</td>\n",
              "      <td>114.0</td>\n",
              "      <td>kWh</td>\n",
              "    </tr>\n",
              "    <tr>\n",
              "      <th>118550</th>\n",
              "      <td>Facility Management</td>\n",
              "      <td>FIRE STATION 30 - MCKENZIE TOWNE</td>\n",
              "      <td>FIRE STATION 30 - SOLAR</td>\n",
              "      <td>6 MCKENZIE TOWNE GA SE</td>\n",
              "      <td>Solar Power</td>\n",
              "      <td>2013</td>\n",
              "      <td>4</td>\n",
              "      <td>151.0</td>\n",
              "      <td>kWh</td>\n",
              "    </tr>\n",
              "  </tbody>\n",
              "</table>\n",
              "<p>372 rows × 9 columns</p>\n",
              "</div>"
            ],
            "text/plain": [
              "         Business Unit Desc  ... Unit\n",
              "13719    Calgary Recreation  ...  kWh\n",
              "14095   Facility Management  ...  kWh\n",
              "14113   Facility Management  ...  kWh\n",
              "14143   Facility Management  ...  kWh\n",
              "14152   Facility Management  ...  kWh\n",
              "...                     ...  ...  ...\n",
              "116841  Facility Management  ...  kWh\n",
              "116854  Facility Management  ...  kWh\n",
              "118510  Facility Management  ...  kWh\n",
              "118537  Facility Management  ...  kWh\n",
              "118550  Facility Management  ...  kWh\n",
              "\n",
              "[372 rows x 9 columns]"
            ]
          },
          "metadata": {
            "tags": []
          },
          "execution_count": 28
        }
      ]
    },
    {
      "cell_type": "code",
      "metadata": {
        "id": "cfP0ehRz7P72",
        "colab_type": "code",
        "outputId": "3f947147-ff99-4621-a774-c31465d79073",
        "colab": {
          "base_uri": "https://localhost:8080/",
          "height": 36
        }
      },
      "source": [
        "val_solar = df20['Total Consumption'].sum()\n",
        "\n",
        "\n",
        "print('The Total Consumption for Solar Power:', val_solar)\n"
      ],
      "execution_count": 0,
      "outputs": [
        {
          "output_type": "stream",
          "text": [
            "The Total Consumption for Solar Power: 1508457.0\n"
          ],
          "name": "stdout"
        }
      ]
    },
    {
      "cell_type": "code",
      "metadata": {
        "id": "qOfciFwFIqhD",
        "colab_type": "code",
        "outputId": "2cd25eac-8526-4c51-bbfb-2fb41b3a3cbd",
        "colab": {
          "base_uri": "https://localhost:8080/",
          "height": 36
        }
      },
      "source": [
        "#The percentage of the consumed energy attributable to solar power\n",
        "\n",
        "# X represent the sum of Total Consumption\n",
        "# Y represent the sum of Solar Power\n",
        "\n",
        "X=  val\n",
        "Y= val_solar\n",
        "\n",
        "    \n",
        "print('The consumed energy attributable to solar power :', '{0:.2f}%'.format((X / Y * 100)))"
      ],
      "execution_count": 0,
      "outputs": [
        {
          "output_type": "stream",
          "text": [
            "The consumed energy attributable to solar power : 154651.17%\n"
          ],
          "name": "stdout"
        }
      ]
    },
    {
      "cell_type": "markdown",
      "metadata": {
        "id": "gbau3R1IuW5s",
        "colab_type": "text"
      },
      "source": [
        "For the time period 2013--2017, what percentage of the total energy is consumed by 'Roads'? "
      ]
    },
    {
      "cell_type": "code",
      "metadata": {
        "id": "phyX7UphU9k0",
        "colab_type": "code",
        "outputId": "910230fd-070a-445a-d94b-39c7df2ffd5a",
        "colab": {
          "base_uri": "https://localhost:8080/",
          "height": 424
        }
      },
      "source": [
        "df24= Corporate_Energy.loc[Corporate_Energy['Business Unit Desc']== 'Roads']\n",
        "df24\n"
      ],
      "execution_count": 0,
      "outputs": [
        {
          "output_type": "execute_result",
          "data": {
            "text/html": [
              "<div>\n",
              "<style scoped>\n",
              "    .dataframe tbody tr th:only-of-type {\n",
              "        vertical-align: middle;\n",
              "    }\n",
              "\n",
              "    .dataframe tbody tr th {\n",
              "        vertical-align: top;\n",
              "    }\n",
              "\n",
              "    .dataframe thead th {\n",
              "        text-align: right;\n",
              "    }\n",
              "</style>\n",
              "<table border=\"1\" class=\"dataframe\">\n",
              "  <thead>\n",
              "    <tr style=\"text-align: right;\">\n",
              "      <th></th>\n",
              "      <th>Business Unit Desc</th>\n",
              "      <th>FacilityName</th>\n",
              "      <th>Site ID</th>\n",
              "      <th>FacilityAddress</th>\n",
              "      <th>Energy Description</th>\n",
              "      <th>Year</th>\n",
              "      <th>Month</th>\n",
              "      <th>Total Consumption</th>\n",
              "      <th>Unit</th>\n",
              "    </tr>\n",
              "  </thead>\n",
              "  <tbody>\n",
              "    <tr>\n",
              "      <th>3722</th>\n",
              "      <td>Roads</td>\n",
              "      <td>TRAFFIC BUILDING</td>\n",
              "      <td>0020003612065</td>\n",
              "      <td>938 32 AV NE</td>\n",
              "      <td>Electricity</td>\n",
              "      <td>2015</td>\n",
              "      <td>11</td>\n",
              "      <td>6288.0</td>\n",
              "      <td>kWh</td>\n",
              "    </tr>\n",
              "    <tr>\n",
              "      <th>14442</th>\n",
              "      <td>Roads</td>\n",
              "      <td>3 ST BARCLAY MALL</td>\n",
              "      <td>0020003450642</td>\n",
              "      <td>3 ST BARCLAY MALL</td>\n",
              "      <td>Electricity</td>\n",
              "      <td>2017</td>\n",
              "      <td>9</td>\n",
              "      <td>5530.0</td>\n",
              "      <td>kWh</td>\n",
              "    </tr>\n",
              "    <tr>\n",
              "      <th>14443</th>\n",
              "      <td>Roads</td>\n",
              "      <td>3 ST BARCLAY MALL</td>\n",
              "      <td>0020003455027</td>\n",
              "      <td>3 ST BARCLAY MALL</td>\n",
              "      <td>Electricity</td>\n",
              "      <td>2017</td>\n",
              "      <td>9</td>\n",
              "      <td>4265.0</td>\n",
              "      <td>kWh</td>\n",
              "    </tr>\n",
              "    <tr>\n",
              "      <th>14444</th>\n",
              "      <td>Roads</td>\n",
              "      <td>3 ST BARCLAY MALL</td>\n",
              "      <td>0020003455282</td>\n",
              "      <td>3 ST BARCLAY MALL</td>\n",
              "      <td>Electricity</td>\n",
              "      <td>2017</td>\n",
              "      <td>9</td>\n",
              "      <td>5167.0</td>\n",
              "      <td>kWh</td>\n",
              "    </tr>\n",
              "    <tr>\n",
              "      <th>14445</th>\n",
              "      <td>Roads</td>\n",
              "      <td>3 ST BARCLAY MALL</td>\n",
              "      <td>0020003710546</td>\n",
              "      <td>3 ST BARCLAY MALL</td>\n",
              "      <td>Electricity</td>\n",
              "      <td>2017</td>\n",
              "      <td>9</td>\n",
              "      <td>8875.0</td>\n",
              "      <td>kWh</td>\n",
              "    </tr>\n",
              "    <tr>\n",
              "      <th>...</th>\n",
              "      <td>...</td>\n",
              "      <td>...</td>\n",
              "      <td>...</td>\n",
              "      <td>...</td>\n",
              "      <td>...</td>\n",
              "      <td>...</td>\n",
              "      <td>...</td>\n",
              "      <td>...</td>\n",
              "      <td>...</td>\n",
              "    </tr>\n",
              "    <tr>\n",
              "      <th>118826</th>\n",
              "      <td>Roads</td>\n",
              "      <td>TRAFFIC SIGNALS</td>\n",
              "      <td>0020003678355</td>\n",
              "      <td>TRAFFIC SIGNALS</td>\n",
              "      <td>Electricity</td>\n",
              "      <td>2013</td>\n",
              "      <td>4</td>\n",
              "      <td>237488.0</td>\n",
              "      <td>kWh</td>\n",
              "    </tr>\n",
              "    <tr>\n",
              "      <th>118827</th>\n",
              "      <td>Roads</td>\n",
              "      <td>TRAFFIC SIGNALS</td>\n",
              "      <td>0020004416705</td>\n",
              "      <td>TRAFFIC SIGNALS</td>\n",
              "      <td>Electricity</td>\n",
              "      <td>2013</td>\n",
              "      <td>4</td>\n",
              "      <td>42953.0</td>\n",
              "      <td>kWh</td>\n",
              "    </tr>\n",
              "    <tr>\n",
              "      <th>118828</th>\n",
              "      <td>Roads</td>\n",
              "      <td>TRAFFIC SIGNALS</td>\n",
              "      <td>0020005497127</td>\n",
              "      <td>TRAFFIC SIGNALS</td>\n",
              "      <td>Electricity</td>\n",
              "      <td>2013</td>\n",
              "      <td>4</td>\n",
              "      <td>1092.0</td>\n",
              "      <td>kWh</td>\n",
              "    </tr>\n",
              "    <tr>\n",
              "      <th>118829</th>\n",
              "      <td>Roads</td>\n",
              "      <td>TRAFFIC SIGNALS</td>\n",
              "      <td>0040001213962</td>\n",
              "      <td>TRAFFIC SIGNALS</td>\n",
              "      <td>Electricity</td>\n",
              "      <td>2013</td>\n",
              "      <td>4</td>\n",
              "      <td>419.0</td>\n",
              "      <td>kWh</td>\n",
              "    </tr>\n",
              "    <tr>\n",
              "      <th>118830</th>\n",
              "      <td>Roads</td>\n",
              "      <td>TRAFFIC SIGNALS</td>\n",
              "      <td>0040001213975</td>\n",
              "      <td>TRAFFIC SIGNALS</td>\n",
              "      <td>Electricity</td>\n",
              "      <td>2013</td>\n",
              "      <td>4</td>\n",
              "      <td>142.0</td>\n",
              "      <td>kWh</td>\n",
              "    </tr>\n",
              "  </tbody>\n",
              "</table>\n",
              "<p>3210 rows × 9 columns</p>\n",
              "</div>"
            ],
            "text/plain": [
              "       Business Unit Desc       FacilityName  ... Total Consumption Unit\n",
              "3722                Roads   TRAFFIC BUILDING  ...            6288.0  kWh\n",
              "14442               Roads  3 ST BARCLAY MALL  ...            5530.0  kWh\n",
              "14443               Roads  3 ST BARCLAY MALL  ...            4265.0  kWh\n",
              "14444               Roads  3 ST BARCLAY MALL  ...            5167.0  kWh\n",
              "14445               Roads  3 ST BARCLAY MALL  ...            8875.0  kWh\n",
              "...                   ...                ...  ...               ...  ...\n",
              "118826              Roads    TRAFFIC SIGNALS  ...          237488.0  kWh\n",
              "118827              Roads    TRAFFIC SIGNALS  ...           42953.0  kWh\n",
              "118828              Roads    TRAFFIC SIGNALS  ...            1092.0  kWh\n",
              "118829              Roads    TRAFFIC SIGNALS  ...             419.0  kWh\n",
              "118830              Roads    TRAFFIC SIGNALS  ...             142.0  kWh\n",
              "\n",
              "[3210 rows x 9 columns]"
            ]
          },
          "metadata": {
            "tags": []
          },
          "execution_count": 31
        }
      ]
    },
    {
      "cell_type": "code",
      "metadata": {
        "id": "g5tVdjmgGVfF",
        "colab_type": "code",
        "outputId": "6b9faa3c-4be0-4dcd-c73e-317cc80750e2",
        "colab": {
          "base_uri": "https://localhost:8080/",
          "height": 36
        }
      },
      "source": [
        "val_roads = df24['Total Consumption'].sum()\n",
        "\n",
        "\n",
        "print('The Total Consumption for Solar Power:', val_roads)"
      ],
      "execution_count": 0,
      "outputs": [
        {
          "output_type": "stream",
          "text": [
            "The Total Consumption for Solar Power: 459047650.0\n"
          ],
          "name": "stdout"
        }
      ]
    },
    {
      "cell_type": "code",
      "metadata": {
        "id": "2IBCFErlU9k8",
        "colab_type": "code",
        "outputId": "8f8fb661-270e-4656-ace2-3c6c3c53afed",
        "colab": {
          "base_uri": "https://localhost:8080/",
          "height": 36
        }
      },
      "source": [
        "#The percentage of the consumed energy attributable to solar power \n",
        "\n",
        "# X represent the sum of Total Consumption\n",
        "# Z represent the sum of Roads\n",
        "\n",
        "X=   val\n",
        "Z= val_roads\n",
        "\n",
        "    \n",
        "print('The consumed energy attributable to Roads :', '{0:.2f}%'.format((X / Y * 100)))"
      ],
      "execution_count": 0,
      "outputs": [
        {
          "output_type": "stream",
          "text": [
            "The consumed energy attributable to Roads : 154651.17%\n"
          ],
          "name": "stdout"
        }
      ]
    },
    {
      "cell_type": "code",
      "metadata": {
        "id": "hJ0LxNXJTNuT",
        "colab_type": "code",
        "colab": {}
      },
      "source": [
        ""
      ],
      "execution_count": 0,
      "outputs": []
    },
    {
      "cell_type": "markdown",
      "metadata": {
        "id": "rpm5Npr0U9lC",
        "colab_type": "text"
      },
      "source": [
        "## Task 3: Visualization\n",
        "\n",
        "Use appropriate visualizations to show:\n",
        "\n",
        "- The total amount of energy consumption for each year for the time period 2013--2017.\n",
        "\n",
        "\n",
        "- Energy consumption by month for the time period 2013--2017. \n",
        "\n",
        "\n",
        "- Total energy consumption for each of the business units sorted from heaviest consumers to lightest consumers. \n",
        "\n",
        "_Hint: The data needed for each of the above visualizations can be obtained using the [groupby](https://pandas.pydata.org/pandas-docs/stable/generated/pandas.DataFrame.groupby.html) method._ "
      ]
    },
    {
      "cell_type": "code",
      "metadata": {
        "id": "E_vg4B43U9lD",
        "colab_type": "code",
        "colab": {}
      },
      "source": [
        "## Solution to Task 3\n",
        "\n",
        "import matplotlib.pyplot as plt\n",
        "import seaborn as sns\n",
        "\n",
        "%matplotlib inline\n",
        "\n",
        "from pylab import rcParams\n",
        "import seaborn as sns\n",
        "from sklearn.preprocessing import scale\n",
        "from collections import Counter"
      ],
      "execution_count": 0,
      "outputs": []
    },
    {
      "cell_type": "code",
      "metadata": {
        "id": "fdJq_J7ZHz-W",
        "colab_type": "code",
        "outputId": "9ee04f6d-2871-4d21-e4d5-b93239afc4a0",
        "colab": {
          "base_uri": "https://localhost:8080/",
          "height": 17
        }
      },
      "source": [
        "import numpy as np # linear algebra\n",
        "import pandas as pd # data processing, CSV file I/O (e.g. pd.read_csv)\n",
        "import matplotlib.pyplot as plt\n",
        "import seaborn as sns\n",
        "import plotly.offline as py\n",
        "py.init_notebook_mode(connected=True)\n",
        "from plotly.offline import init_notebook_mode, iplot\n",
        "init_notebook_mode(connected=True)\n",
        "import plotly.graph_objs as go\n",
        "import plotly.offline as offline\n",
        "\n",
        "import warnings\n",
        "warnings.filterwarnings('ignore')"
      ],
      "execution_count": 0,
      "outputs": [
        {
          "output_type": "display_data",
          "data": {
            "text/html": [
              "        <script type=\"text/javascript\">\n",
              "        window.PlotlyConfig = {MathJaxConfig: 'local'};\n",
              "        if (window.MathJax) {MathJax.Hub.Config({SVG: {font: \"STIX-Web\"}});}\n",
              "        if (typeof require !== 'undefined') {\n",
              "        require.undef(\"plotly\");\n",
              "        requirejs.config({\n",
              "            paths: {\n",
              "                'plotly': ['https://cdn.plot.ly/plotly-latest.min']\n",
              "            }\n",
              "        });\n",
              "        require(['plotly'], function(Plotly) {\n",
              "            window._Plotly = Plotly;\n",
              "        });\n",
              "        }\n",
              "        </script>\n",
              "        "
            ]
          },
          "metadata": {
            "tags": []
          }
        },
        {
          "output_type": "display_data",
          "data": {
            "text/html": [
              "        <script type=\"text/javascript\">\n",
              "        window.PlotlyConfig = {MathJaxConfig: 'local'};\n",
              "        if (window.MathJax) {MathJax.Hub.Config({SVG: {font: \"STIX-Web\"}});}\n",
              "        if (typeof require !== 'undefined') {\n",
              "        require.undef(\"plotly\");\n",
              "        requirejs.config({\n",
              "            paths: {\n",
              "                'plotly': ['https://cdn.plot.ly/plotly-latest.min']\n",
              "            }\n",
              "        });\n",
              "        require(['plotly'], function(Plotly) {\n",
              "            window._Plotly = Plotly;\n",
              "        });\n",
              "        }\n",
              "        </script>\n",
              "        "
            ]
          },
          "metadata": {
            "tags": []
          }
        }
      ]
    },
    {
      "cell_type": "code",
      "metadata": {
        "id": "8c_OoyBA0zNf",
        "colab_type": "code",
        "outputId": "9eaeb826-548f-473a-f185-24cafed747a4",
        "colab": {
          "base_uri": "https://localhost:8080/",
          "height": 418
        }
      },
      "source": [
        "%matplotlib inline\n",
        "import matplotlib.pyplot as plt\n",
        "import seaborn as sns\n",
        "                \n",
        "\n",
        "sns.set_style(\"darkgrid\")\n",
        "plt.figure(figsize=(12, 6))\n",
        "plt.plot(Corporate_Energy['Year'], Corporate_Energy['Total Consumption'])\n",
        "plt.ylabel('Total Consumption')\n",
        "\n",
        "# make x-axis ticks legible\n",
        "adf = plt.gca().get_xaxis().get_major_formatter()\n",
        "#adf.scaled[1.0] = '%y'\n",
        "plt.xlabel('Year')"
      ],
      "execution_count": 0,
      "outputs": [
        {
          "output_type": "execute_result",
          "data": {
            "text/plain": [
              "Text(0.5, 0, 'Year')"
            ]
          },
          "metadata": {
            "tags": []
          },
          "execution_count": 36
        },
        {
          "output_type": "display_data",
          "data": {
            "image/png": "[encoded data removed]",
            "text/plain": [
              "<Figure size 864x432 with 1 Axes>"
            ]
          },
          "metadata": {
            "tags": []
          }
        }
      ]
    },
    {
      "cell_type": "code",
      "metadata": {
        "id": "NXTwXc8vLGwD",
        "colab_type": "code",
        "outputId": "858517e7-b475-460c-d8d4-64077ce33bef",
        "colab": {
          "base_uri": "https://localhost:8080/",
          "height": 300
        }
      },
      "source": [
        "sns.set_style(\"darkgrid\")\n",
        "plt.figure(figsize=(8, 4))\n",
        "Corporate_Energy['Year'].value_counts().plot(kind='bar')\n",
        "plt.ylabel('Count')"
      ],
      "execution_count": 0,
      "outputs": [
        {
          "output_type": "execute_result",
          "data": {
            "text/plain": [
              "Text(0, 0.5, 'Count')"
            ]
          },
          "metadata": {
            "tags": []
          },
          "execution_count": 37
        },
        {
          "output_type": "display_data",
          "data": {
            "image/png": "[encoded data removed]",
            "text/plain": [
              "<Figure size 576x288 with 1 Axes>"
            ]
          },
          "metadata": {
            "tags": []
          }
        }
      ]
    },
    {
      "cell_type": "code",
      "metadata": {
        "id": "KrXp_m1pToro",
        "colab_type": "code",
        "outputId": "2775216f-0fe2-4121-ff1a-2342747b876e",
        "colab": {
          "base_uri": "https://localhost:8080/",
          "height": 287
        }
      },
      "source": [
        "sns.set_style(\"darkgrid\")\n",
        "plt.figure(figsize=(8, 4))\n",
        "Corporate_Energy['Month'].value_counts().plot(kind='bar')\n",
        "plt.ylabel('Count')"
      ],
      "execution_count": 0,
      "outputs": [
        {
          "output_type": "execute_result",
          "data": {
            "text/plain": [
              "Text(0, 0.5, 'Count')"
            ]
          },
          "metadata": {
            "tags": []
          },
          "execution_count": 38
        },
        {
          "output_type": "display_data",
          "data": {
            "image/png": "[encoded data removed]",
            "text/plain": [
              "<Figure size 576x288 with 1 Axes>"
            ]
          },
          "metadata": {
            "tags": []
          }
        }
      ]
    },
    {
      "cell_type": "code",
      "metadata": {
        "id": "Z4j7JHpPhT4c",
        "colab_type": "code",
        "outputId": "21ca35a9-982a-4694-825b-8a1d36457112",
        "colab": {
          "base_uri": "https://localhost:8080/",
          "height": 418
        }
      },
      "source": [
        "\n",
        "sns.set_style(\"darkgrid\")\n",
        "plt.figure(figsize=(12, 6))\n",
        "plt.plot(Corporate_Energy['Month'], Corporate_Energy['Total Consumption'])\n",
        "plt.ylabel('Total Consumption')\n",
        "\n",
        "# make x-axis ticks legible\n",
        "adf = plt.gca().get_xaxis().get_major_formatter()\n",
        "plt.xlabel('Month')"
      ],
      "execution_count": 0,
      "outputs": [
        {
          "output_type": "execute_result",
          "data": {
            "text/plain": [
              "Text(0.5, 0, 'Month')"
            ]
          },
          "metadata": {
            "tags": []
          },
          "execution_count": 161
        },
        {
          "output_type": "display_data",
          "data": {
            "image/png": "[encoded data removed]",
            "text/plain": [
              "<Figure size 864x432 with 1 Axes>"
            ]
          },
          "metadata": {
            "tags": []
          }
        }
      ]
    },
    {
      "cell_type": "code",
      "metadata": {
        "colab_type": "code",
        "id": "om_7mmfdzICb",
        "colab": {}
      },
      "source": [
        "import numpy as np\n",
        "import pandas as pd\n",
        "from sklearn.model_selection import ShuffleSplit\n",
        "from sklearn import preprocessing\n",
        "from sklearn import datasets\n",
        "import matplotlib.pyplot as plt\n",
        "%matplotlib inline"
      ],
      "execution_count": 0,
      "outputs": []
    },
    {
      "cell_type": "code",
      "metadata": {
        "id": "dSCO85Ag8AHn",
        "colab_type": "code",
        "outputId": "d7bb530c-0d0c-4c1e-ebfe-6d57f595fe45",
        "colab": {
          "base_uri": "https://localhost:8080/",
          "height": 206
        }
      },
      "source": [
        "features = Corporate_Energy[['Year', 'Month', 'Total Consumption']]\n",
        "\n",
        "features.head()"
      ],
      "execution_count": 0,
      "outputs": [
        {
          "output_type": "execute_result",
          "data": {
            "text/html": [
              "<div>\n",
              "<style scoped>\n",
              "    .dataframe tbody tr th:only-of-type {\n",
              "        vertical-align: middle;\n",
              "    }\n",
              "\n",
              "    .dataframe tbody tr th {\n",
              "        vertical-align: top;\n",
              "    }\n",
              "\n",
              "    .dataframe thead th {\n",
              "        text-align: right;\n",
              "    }\n",
              "</style>\n",
              "<table border=\"1\" class=\"dataframe\">\n",
              "  <thead>\n",
              "    <tr style=\"text-align: right;\">\n",
              "      <th></th>\n",
              "      <th>Year</th>\n",
              "      <th>Month</th>\n",
              "      <th>Total Consumption</th>\n",
              "    </tr>\n",
              "  </thead>\n",
              "  <tbody>\n",
              "    <tr>\n",
              "      <th>2590</th>\n",
              "      <td>2017</td>\n",
              "      <td>9</td>\n",
              "      <td>0.0</td>\n",
              "    </tr>\n",
              "    <tr>\n",
              "      <th>3128</th>\n",
              "      <td>2017</td>\n",
              "      <td>2</td>\n",
              "      <td>0.0</td>\n",
              "    </tr>\n",
              "    <tr>\n",
              "      <th>3274</th>\n",
              "      <td>2017</td>\n",
              "      <td>2</td>\n",
              "      <td>0.0</td>\n",
              "    </tr>\n",
              "    <tr>\n",
              "      <th>3722</th>\n",
              "      <td>2015</td>\n",
              "      <td>11</td>\n",
              "      <td>6288.0</td>\n",
              "    </tr>\n",
              "    <tr>\n",
              "      <th>4481</th>\n",
              "      <td>2015</td>\n",
              "      <td>5</td>\n",
              "      <td>9.0</td>\n",
              "    </tr>\n",
              "  </tbody>\n",
              "</table>\n",
              "</div>"
            ],
            "text/plain": [
              "      Year  Month  Total Consumption\n",
              "2590  2017      9                0.0\n",
              "3128  2017      2                0.0\n",
              "3274  2017      2                0.0\n",
              "3722  2015     11             6288.0\n",
              "4481  2015      5                9.0"
            ]
          },
          "metadata": {
            "tags": []
          },
          "execution_count": 205
        }
      ]
    },
    {
      "cell_type": "code",
      "metadata": {
        "id": "zFrBNuaVfuAt",
        "colab_type": "code",
        "outputId": "5fce0be6-de16-4579-ca70-6b9e619af4e3",
        "colab": {
          "base_uri": "https://localhost:8080/",
          "height": 206
        }
      },
      "source": [
        "df_model = Corporate_Energy[['Year', 'Month']]\n",
        "\n",
        "df_model.head()"
      ],
      "execution_count": 0,
      "outputs": [
        {
          "output_type": "execute_result",
          "data": {
            "text/html": [
              "<div>\n",
              "<style scoped>\n",
              "    .dataframe tbody tr th:only-of-type {\n",
              "        vertical-align: middle;\n",
              "    }\n",
              "\n",
              "    .dataframe tbody tr th {\n",
              "        vertical-align: top;\n",
              "    }\n",
              "\n",
              "    .dataframe thead th {\n",
              "        text-align: right;\n",
              "    }\n",
              "</style>\n",
              "<table border=\"1\" class=\"dataframe\">\n",
              "  <thead>\n",
              "    <tr style=\"text-align: right;\">\n",
              "      <th></th>\n",
              "      <th>Year</th>\n",
              "      <th>Month</th>\n",
              "    </tr>\n",
              "  </thead>\n",
              "  <tbody>\n",
              "    <tr>\n",
              "      <th>2590</th>\n",
              "      <td>2017</td>\n",
              "      <td>9</td>\n",
              "    </tr>\n",
              "    <tr>\n",
              "      <th>3128</th>\n",
              "      <td>2017</td>\n",
              "      <td>2</td>\n",
              "    </tr>\n",
              "    <tr>\n",
              "      <th>3274</th>\n",
              "      <td>2017</td>\n",
              "      <td>2</td>\n",
              "    </tr>\n",
              "    <tr>\n",
              "      <th>3722</th>\n",
              "      <td>2015</td>\n",
              "      <td>11</td>\n",
              "    </tr>\n",
              "    <tr>\n",
              "      <th>4481</th>\n",
              "      <td>2015</td>\n",
              "      <td>5</td>\n",
              "    </tr>\n",
              "  </tbody>\n",
              "</table>\n",
              "</div>"
            ],
            "text/plain": [
              "      Year  Month\n",
              "2590  2017      9\n",
              "3128  2017      2\n",
              "3274  2017      2\n",
              "3722  2015     11\n",
              "4481  2015      5"
            ]
          },
          "metadata": {
            "tags": []
          },
          "execution_count": 206
        }
      ]
    },
    {
      "cell_type": "code",
      "metadata": {
        "id": "yxSKF4HO6F3z",
        "colab_type": "code",
        "colab": {}
      },
      "source": [
        ""
      ],
      "execution_count": 0,
      "outputs": []
    },
    {
      "cell_type": "code",
      "metadata": {
        "id": "8y9vgeGDcgSE",
        "colab_type": "code",
        "outputId": "2d5d1fa1-9d62-44af-8129-8296e805e0d5",
        "colab": {
          "base_uri": "https://localhost:8080/",
          "height": 424
        }
      },
      "source": [
        "df_features = features.apply (pd.to_numeric, errors='coerce')\n",
        "df_features = df.dropna()\n",
        "\n",
        "df_features"
      ],
      "execution_count": 0,
      "outputs": [
        {
          "output_type": "execute_result",
          "data": {
            "text/html": [
              "<div>\n",
              "<style scoped>\n",
              "    .dataframe tbody tr th:only-of-type {\n",
              "        vertical-align: middle;\n",
              "    }\n",
              "\n",
              "    .dataframe tbody tr th {\n",
              "        vertical-align: top;\n",
              "    }\n",
              "\n",
              "    .dataframe thead th {\n",
              "        text-align: right;\n",
              "    }\n",
              "</style>\n",
              "<table border=\"1\" class=\"dataframe\">\n",
              "  <thead>\n",
              "    <tr style=\"text-align: right;\">\n",
              "      <th></th>\n",
              "      <th>Year</th>\n",
              "      <th>Month</th>\n",
              "      <th>Total Consumption</th>\n",
              "    </tr>\n",
              "  </thead>\n",
              "  <tbody>\n",
              "    <tr>\n",
              "      <th>2590</th>\n",
              "      <td>2017</td>\n",
              "      <td>9</td>\n",
              "      <td>0.0</td>\n",
              "    </tr>\n",
              "    <tr>\n",
              "      <th>3128</th>\n",
              "      <td>2017</td>\n",
              "      <td>2</td>\n",
              "      <td>0.0</td>\n",
              "    </tr>\n",
              "    <tr>\n",
              "      <th>3274</th>\n",
              "      <td>2017</td>\n",
              "      <td>2</td>\n",
              "      <td>0.0</td>\n",
              "    </tr>\n",
              "    <tr>\n",
              "      <th>3722</th>\n",
              "      <td>2015</td>\n",
              "      <td>11</td>\n",
              "      <td>6288.0</td>\n",
              "    </tr>\n",
              "    <tr>\n",
              "      <th>4481</th>\n",
              "      <td>2015</td>\n",
              "      <td>5</td>\n",
              "      <td>9.0</td>\n",
              "    </tr>\n",
              "    <tr>\n",
              "      <th>...</th>\n",
              "      <td>...</td>\n",
              "      <td>...</td>\n",
              "      <td>...</td>\n",
              "    </tr>\n",
              "    <tr>\n",
              "      <th>119232</th>\n",
              "      <td>2013</td>\n",
              "      <td>4</td>\n",
              "      <td>7297.0</td>\n",
              "    </tr>\n",
              "    <tr>\n",
              "      <th>119234</th>\n",
              "      <td>2013</td>\n",
              "      <td>4</td>\n",
              "      <td>3584.0</td>\n",
              "    </tr>\n",
              "    <tr>\n",
              "      <th>119235</th>\n",
              "      <td>2013</td>\n",
              "      <td>4</td>\n",
              "      <td>2551.0</td>\n",
              "    </tr>\n",
              "    <tr>\n",
              "      <th>119237</th>\n",
              "      <td>2013</td>\n",
              "      <td>4</td>\n",
              "      <td>56.0</td>\n",
              "    </tr>\n",
              "    <tr>\n",
              "      <th>119238</th>\n",
              "      <td>2013</td>\n",
              "      <td>4</td>\n",
              "      <td>26.0</td>\n",
              "    </tr>\n",
              "  </tbody>\n",
              "</table>\n",
              "<p>80521 rows × 3 columns</p>\n",
              "</div>"
            ],
            "text/plain": [
              "        Year  Month  Total Consumption\n",
              "2590    2017      9                0.0\n",
              "3128    2017      2                0.0\n",
              "3274    2017      2                0.0\n",
              "3722    2015     11             6288.0\n",
              "4481    2015      5                9.0\n",
              "...      ...    ...                ...\n",
              "119232  2013      4             7297.0\n",
              "119234  2013      4             3584.0\n",
              "119235  2013      4             2551.0\n",
              "119237  2013      4               56.0\n",
              "119238  2013      4               26.0\n",
              "\n",
              "[80521 rows x 3 columns]"
            ]
          },
          "metadata": {
            "tags": []
          },
          "execution_count": 207
        }
      ]
    },
    {
      "cell_type": "code",
      "metadata": {
        "id": "9DcDHh3Jdf0b",
        "colab_type": "code",
        "outputId": "fa0f7ba9-09fd-4c41-a7c6-75d92c92e432",
        "colab": {
          "base_uri": "https://localhost:8080/",
          "height": 424
        }
      },
      "source": [
        "df_model1 = df_model.apply (pd.to_numeric, errors='coerce')\n",
        "df_model2 = df_model1.dropna()\n",
        "\n",
        "df_model2"
      ],
      "execution_count": 0,
      "outputs": [
        {
          "output_type": "execute_result",
          "data": {
            "text/html": [
              "<div>\n",
              "<style scoped>\n",
              "    .dataframe tbody tr th:only-of-type {\n",
              "        vertical-align: middle;\n",
              "    }\n",
              "\n",
              "    .dataframe tbody tr th {\n",
              "        vertical-align: top;\n",
              "    }\n",
              "\n",
              "    .dataframe thead th {\n",
              "        text-align: right;\n",
              "    }\n",
              "</style>\n",
              "<table border=\"1\" class=\"dataframe\">\n",
              "  <thead>\n",
              "    <tr style=\"text-align: right;\">\n",
              "      <th></th>\n",
              "      <th>Year</th>\n",
              "      <th>Month</th>\n",
              "    </tr>\n",
              "  </thead>\n",
              "  <tbody>\n",
              "    <tr>\n",
              "      <th>2590</th>\n",
              "      <td>2017</td>\n",
              "      <td>9</td>\n",
              "    </tr>\n",
              "    <tr>\n",
              "      <th>3128</th>\n",
              "      <td>2017</td>\n",
              "      <td>2</td>\n",
              "    </tr>\n",
              "    <tr>\n",
              "      <th>3274</th>\n",
              "      <td>2017</td>\n",
              "      <td>2</td>\n",
              "    </tr>\n",
              "    <tr>\n",
              "      <th>3722</th>\n",
              "      <td>2015</td>\n",
              "      <td>11</td>\n",
              "    </tr>\n",
              "    <tr>\n",
              "      <th>4481</th>\n",
              "      <td>2015</td>\n",
              "      <td>5</td>\n",
              "    </tr>\n",
              "    <tr>\n",
              "      <th>...</th>\n",
              "      <td>...</td>\n",
              "      <td>...</td>\n",
              "    </tr>\n",
              "    <tr>\n",
              "      <th>119232</th>\n",
              "      <td>2013</td>\n",
              "      <td>4</td>\n",
              "    </tr>\n",
              "    <tr>\n",
              "      <th>119234</th>\n",
              "      <td>2013</td>\n",
              "      <td>4</td>\n",
              "    </tr>\n",
              "    <tr>\n",
              "      <th>119235</th>\n",
              "      <td>2013</td>\n",
              "      <td>4</td>\n",
              "    </tr>\n",
              "    <tr>\n",
              "      <th>119237</th>\n",
              "      <td>2013</td>\n",
              "      <td>4</td>\n",
              "    </tr>\n",
              "    <tr>\n",
              "      <th>119238</th>\n",
              "      <td>2013</td>\n",
              "      <td>4</td>\n",
              "    </tr>\n",
              "  </tbody>\n",
              "</table>\n",
              "<p>80547 rows × 2 columns</p>\n",
              "</div>"
            ],
            "text/plain": [
              "        Year  Month\n",
              "2590    2017      9\n",
              "3128    2017      2\n",
              "3274    2017      2\n",
              "3722    2015     11\n",
              "4481    2015      5\n",
              "...      ...    ...\n",
              "119232  2013      4\n",
              "119234  2013      4\n",
              "119235  2013      4\n",
              "119237  2013      4\n",
              "119238  2013      4\n",
              "\n",
              "[80547 rows x 2 columns]"
            ]
          },
          "metadata": {
            "tags": []
          },
          "execution_count": 213
        }
      ]
    },
    {
      "cell_type": "code",
      "metadata": {
        "id": "z_86NALKxTJz",
        "colab_type": "code",
        "outputId": "cf016d79-5008-452c-c181-afd546a0b65e",
        "colab": {
          "base_uri": "https://localhost:8080/",
          "height": 36
        }
      },
      "source": [
        "df_model2.shape, df_features.shape"
      ],
      "execution_count": 0,
      "outputs": [
        {
          "output_type": "execute_result",
          "data": {
            "text/plain": [
              "((80547, 2), (80521, 3))"
            ]
          },
          "metadata": {
            "tags": []
          },
          "execution_count": 215
        }
      ]
    },
    {
      "cell_type": "code",
      "metadata": {
        "id": "WqaSKYI-rMEV",
        "colab_type": "code",
        "colab": {}
      },
      "source": [
        "# transform data\n",
        "from sklearn.preprocessing import MinMaxScaler\n",
        "\n",
        "scaler = MinMaxScaler()\n",
        "X_train = scaler.fit_transform(X_train)\n",
        "X_test = scaler.transform(X_test)"
      ],
      "execution_count": 0,
      "outputs": []
    },
    {
      "cell_type": "code",
      "metadata": {
        "id": "n9WREUdEspof",
        "colab_type": "code",
        "colab": {}
      },
      "source": [
        "# import machine learning algorithms\n",
        "from sklearn.ensemble import GradientBoostingClassifier\n",
        "from sklearn.metrics import classification_report, confusion_matrix, roc_curve, auc"
      ],
      "execution_count": 0,
      "outputs": []
    },
    {
      "cell_type": "code",
      "metadata": {
        "id": "EtgQhow5s6YP",
        "colab_type": "code",
        "outputId": "3383bf6d-2410-4d04-c01d-a1c0179fa982",
        "colab": {
          "base_uri": "https://localhost:8080/",
          "height": 36
        }
      },
      "source": [
        "X_train.shape, y_train.shape\n"
      ],
      "execution_count": 0,
      "outputs": [
        {
          "output_type": "execute_result",
          "data": {
            "text/plain": [
              "((48312, 3), (48312, 3))"
            ]
          },
          "metadata": {
            "tags": []
          },
          "execution_count": 195
        }
      ]
    },
    {
      "cell_type": "code",
      "metadata": {
        "id": "A2RBqSAVxxy2",
        "colab_type": "code",
        "outputId": "e7443438-0f1e-4ee6-be15-31cb27c86e5b",
        "colab": {
          "base_uri": "https://localhost:8080/",
          "height": 265
        }
      },
      "source": [
        "\n",
        "fig, ax = plt.subplots()\n",
        "\n",
        "# Create violinplot\n",
        "ax.violinplot(Corporate_Energy[\"Year\"], vert=False)\n",
        "\n",
        "# Show the plot\n",
        "plt.show()"
      ],
      "execution_count": 0,
      "outputs": [
        {
          "output_type": "display_data",
          "data": {
            "image/png": "[encoded data removed]",
            "text/plain": [
              "<Figure size 432x288 with 1 Axes>"
            ]
          },
          "metadata": {
            "tags": []
          }
        }
      ]
    },
    {
      "cell_type": "code",
      "metadata": {
        "id": "JKESNzrV1nz3",
        "colab_type": "code",
        "outputId": "d4eadc06-113a-4bea-d2ac-6edda1acd3af",
        "colab": {
          "base_uri": "https://localhost:8080/",
          "height": 265
        }
      },
      "source": [
        "fig, ax = plt.subplots()\n",
        "\n",
        "# Create violinplot\n",
        "ax.violinplot(Corporate_Energy[\"Month\"], vert=False)\n",
        "\n",
        "# Show the plot\n",
        "plt.show()"
      ],
      "execution_count": 0,
      "outputs": [
        {
          "output_type": "display_data",
          "data": {
            "image/png": "[encoded data removed]",
            "text/plain": [
              "<Figure size 432x288 with 1 Axes>"
            ]
          },
          "metadata": {
            "tags": []
          }
        }
      ]
    },
    {
      "cell_type": "code",
      "metadata": {
        "id": "DpCF-gZ07O3b",
        "colab_type": "code",
        "colab": {}
      },
      "source": [
        "features=df.dropna(how='all')"
      ],
      "execution_count": 0,
      "outputs": []
    },
    {
      "cell_type": "code",
      "metadata": {
        "id": "tFuDQEiIBnh5",
        "colab_type": "code",
        "colab": {}
      },
      "source": [
        "\n",
        "\n",
        "import pandas as pd\n",
        "\n",
        "from sklearn.model_selection import train_test_split\n",
        "\n",
        "y= features['Total Consumption']\n",
        "\n",
        "\n",
        "y= features['Total Consumption']\n",
        "X_train, X_test, y_train, y_test = train_test_split(features, y, test_size=0.8)\n",
        "\n"
      ],
      "execution_count": 0,
      "outputs": []
    },
    {
      "cell_type": "code",
      "metadata": {
        "id": "S8vmm6u-4TVu",
        "colab_type": "code",
        "outputId": "cdc7ee1b-bd0f-4c57-9a45-972aa9b42161",
        "colab": {
          "base_uri": "https://localhost:8080/",
          "height": 54
        }
      },
      "source": [
        "print (X_train.shape, y_train.shape)\n",
        "print (X_test.shape, y_test.shape)"
      ],
      "execution_count": 251,
      "outputs": [
        {
          "output_type": "stream",
          "text": [
            "(16104, 3) (16104,)\n",
            "(64417, 3) (64417,)\n"
          ],
          "name": "stdout"
        }
      ]
    },
    {
      "cell_type": "code",
      "metadata": {
        "id": "uN4K_lC2U9lQ",
        "colab_type": "code",
        "outputId": "1f266214-fd0f-4ada-af23-e8ffb025c5f3",
        "colab": {
          "base_uri": "https://localhost:8080/",
          "height": 36
        }
      },
      "source": [
        "# fit a model\n",
        "from sklearn import datasets, linear_model\n",
        "\n",
        "lm = linear_model.LinearRegression()\n",
        "model = lm.fit(X_train, y_train)\n",
        "predictions = lm.predict(X_test)\n",
        "\n",
        "predictions[0:5]"
      ],
      "execution_count": 253,
      "outputs": [
        {
          "output_type": "execute_result",
          "data": {
            "text/plain": [
              "array([4.30000e+01, 1.76160e+04, 9.73600e+04, 4.35030e+04, 1.46091e+05])"
            ]
          },
          "metadata": {
            "tags": []
          },
          "execution_count": 253
        }
      ]
    },
    {
      "cell_type": "code",
      "metadata": {
        "id": "6A-WaVUj8w5A",
        "colab_type": "code",
        "colab": {
          "base_uri": "https://localhost:8080/",
          "height": 309
        },
        "outputId": "5efea2ea-bd78-4b9a-cb4e-c5f8acb27a18"
      },
      "source": [
        "## The line / model\n",
        "plt.scatter(y_test, predictions)\n",
        "plt.xlabel(\"True Value\")\n",
        "plt.ylabel(\"Predictions\")"
      ],
      "execution_count": 255,
      "outputs": [
        {
          "output_type": "execute_result",
          "data": {
            "text/plain": [
              "Text(0, 0.5, 'Predictions')"
            ]
          },
          "metadata": {
            "tags": []
          },
          "execution_count": 255
        },
        {
          "output_type": "display_data",
          "data": {
            "image/png": "[encoded data removed]",
            "text/plain": [
              "<Figure size 432x288 with 1 Axes>"
            ]
          },
          "metadata": {
            "tags": []
          }
        }
      ]
    },
    {
      "cell_type": "code",
      "metadata": {
        "id": "xPSn4KEOwC1Z",
        "colab_type": "code",
        "colab": {
          "base_uri": "https://localhost:8080/",
          "height": 1000
        },
        "outputId": "dcd7967e-4342-4ad9-ca53-30ce178eb16c"
      },
      "source": [
        "# library & dataset\n",
        "import matplotlib.pyplot as plt\n",
        "import seaborn as sns\n",
        "df = features\n",
        " \n",
        "# with regression\n",
        "sns.pairplot(df, kind=\"reg\")\n",
        "plt.show()\n",
        " \n",
        "# without regression\n",
        "sns.pairplot(df, kind=\"scatter\")\n",
        "plt.show()"
      ],
      "execution_count": 258,
      "outputs": [
        {
          "output_type": "display_data",
          "data": {
            "image/png": "[encoded data removed]",
            "text/plain": [
              "<Figure size 540x540 with 12 Axes>"
            ]
          },
          "metadata": {
            "tags": []
          }
        },
        {
          "output_type": "display_data",
          "data": {
            "image/png": "[encoded data removed]",
            "text/plain": [
              "<Figure size 540x540 with 12 Axes>"
            ]
          },
          "metadata": {
            "tags": []
          }
        }
      ]
    },
    {
      "cell_type": "code",
      "metadata": {
        "id": "NHpvikTFU9le",
        "colab_type": "code",
        "outputId": "df74ab9e-d53a-4c29-ea09-967e12c216a2",
        "colab": {
          "base_uri": "https://localhost:8080/",
          "height": 73
        }
      },
      "source": [
        "print(df4.corr())"
      ],
      "execution_count": 0,
      "outputs": [
        {
          "output_type": "stream",
          "text": [
            "                       Year  Total Consumption\n",
            "Year               1.000000          -0.003621\n",
            "Total Consumption -0.003621           1.000000\n"
          ],
          "name": "stdout"
        }
      ]
    },
    {
      "cell_type": "code",
      "metadata": {
        "id": "0L-_OPj72c8v",
        "colab_type": "code",
        "outputId": "2aef1006-1c63-4448-de1d-d462040e1cf9",
        "colab": {
          "base_uri": "https://localhost:8080/",
          "height": 317
        }
      },
      "source": [
        "df11 = pd.read_csv('Corporate_Energy_month.csv')\n",
        "\n",
        "print(df11.info(null_counts=True))"
      ],
      "execution_count": 0,
      "outputs": [
        {
          "output_type": "stream",
          "text": [
            "<class 'pandas.core.frame.DataFrame'>\n",
            "RangeIndex: 80547 entries, 0 to 80546\n",
            "Data columns (total 10 columns):\n",
            "Unnamed: 0            80547 non-null int64\n",
            "Business Unit Desc    80547 non-null object\n",
            "FacilityName          80547 non-null object\n",
            "Site ID               80547 non-null object\n",
            "FacilityAddress       80547 non-null object\n",
            "Energy Description    80547 non-null object\n",
            "Year                  80547 non-null int64\n",
            "Month                 80547 non-null object\n",
            "Total Consumption     80521 non-null float64\n",
            "Unit                  80547 non-null object\n",
            "dtypes: float64(1), int64(2), object(7)\n",
            "memory usage: 6.1+ MB\n",
            "None\n"
          ],
          "name": "stdout"
        }
      ]
    },
    {
      "cell_type": "code",
      "metadata": {
        "id": "uE-8Tm-R27UR",
        "colab_type": "code",
        "outputId": "756b7128-7b89-40b3-f538-daa34be49c14",
        "colab": {
          "base_uri": "https://localhost:8080/",
          "height": 426
        }
      },
      "source": [
        "df12 = pd.DataFrame(df11)\n",
        "df12.head(12)"
      ],
      "execution_count": 0,
      "outputs": [
        {
          "output_type": "execute_result",
          "data": {
            "text/html": [
              "<div>\n",
              "<style scoped>\n",
              "    .dataframe tbody tr th:only-of-type {\n",
              "        vertical-align: middle;\n",
              "    }\n",
              "\n",
              "    .dataframe tbody tr th {\n",
              "        vertical-align: top;\n",
              "    }\n",
              "\n",
              "    .dataframe thead th {\n",
              "        text-align: right;\n",
              "    }\n",
              "</style>\n",
              "<table border=\"1\" class=\"dataframe\">\n",
              "  <thead>\n",
              "    <tr style=\"text-align: right;\">\n",
              "      <th></th>\n",
              "      <th>Unnamed: 0</th>\n",
              "      <th>Business Unit Desc</th>\n",
              "      <th>FacilityName</th>\n",
              "      <th>Site ID</th>\n",
              "      <th>FacilityAddress</th>\n",
              "      <th>Energy Description</th>\n",
              "      <th>Year</th>\n",
              "      <th>Month</th>\n",
              "      <th>Total Consumption</th>\n",
              "      <th>Unit</th>\n",
              "    </tr>\n",
              "  </thead>\n",
              "  <tbody>\n",
              "    <tr>\n",
              "      <th>0</th>\n",
              "      <td>1916</td>\n",
              "      <td>Calgary Parks</td>\n",
              "      <td>CRA062</td>\n",
              "      <td>0020006474122</td>\n",
              "      <td>41 CRANARCH GV SE</td>\n",
              "      <td>Electricity</td>\n",
              "      <td>2017</td>\n",
              "      <td>Sep</td>\n",
              "      <td>0.0</td>\n",
              "      <td>kWh</td>\n",
              "    </tr>\n",
              "    <tr>\n",
              "      <th>1</th>\n",
              "      <td>2283</td>\n",
              "      <td>Calgary Parks</td>\n",
              "      <td>TUS604</td>\n",
              "      <td>0020005539722</td>\n",
              "      <td>944 TUSCANY DR NW</td>\n",
              "      <td>Electricity</td>\n",
              "      <td>2017</td>\n",
              "      <td>Feb</td>\n",
              "      <td>0.0</td>\n",
              "      <td>kWh</td>\n",
              "    </tr>\n",
              "    <tr>\n",
              "      <th>2</th>\n",
              "      <td>2416</td>\n",
              "      <td>Calgary Parks</td>\n",
              "      <td>TUS607</td>\n",
              "      <td>0020005384571</td>\n",
              "      <td>170 TUSCANY WY NW</td>\n",
              "      <td>Electricity</td>\n",
              "      <td>2017</td>\n",
              "      <td>Feb</td>\n",
              "      <td>0.0</td>\n",
              "      <td>kWh</td>\n",
              "    </tr>\n",
              "    <tr>\n",
              "      <th>3</th>\n",
              "      <td>2778</td>\n",
              "      <td>Roads</td>\n",
              "      <td>TRAFFIC BUILDING</td>\n",
              "      <td>0020003612065</td>\n",
              "      <td>938 32 AV NE</td>\n",
              "      <td>Electricity</td>\n",
              "      <td>2015</td>\n",
              "      <td>Nov</td>\n",
              "      <td>6288.0</td>\n",
              "      <td>kWh</td>\n",
              "    </tr>\n",
              "    <tr>\n",
              "      <th>4</th>\n",
              "      <td>3278</td>\n",
              "      <td>Calgary Parks</td>\n",
              "      <td>RAM021</td>\n",
              "      <td>0020006186276</td>\n",
              "      <td>1120 10 ST SE</td>\n",
              "      <td>Electricity</td>\n",
              "      <td>2015</td>\n",
              "      <td>May</td>\n",
              "      <td>9.0</td>\n",
              "      <td>kWh</td>\n",
              "    </tr>\n",
              "    <tr>\n",
              "      <th>5</th>\n",
              "      <td>3305</td>\n",
              "      <td>Calgary Parks</td>\n",
              "      <td>MCT778</td>\n",
              "      <td>0020005838494</td>\n",
              "      <td>5 PRESTWICK MR SE</td>\n",
              "      <td>Electricity</td>\n",
              "      <td>2015</td>\n",
              "      <td>Dec</td>\n",
              "      <td>0.0</td>\n",
              "      <td>kWh</td>\n",
              "    </tr>\n",
              "    <tr>\n",
              "      <th>6</th>\n",
              "      <td>3979</td>\n",
              "      <td>Calgary Parks</td>\n",
              "      <td>PAN008</td>\n",
              "      <td>0020006741745</td>\n",
              "      <td>55 PANORA RI NW</td>\n",
              "      <td>Electricity</td>\n",
              "      <td>2015</td>\n",
              "      <td>Dec</td>\n",
              "      <td>368.0</td>\n",
              "      <td>kWh</td>\n",
              "    </tr>\n",
              "    <tr>\n",
              "      <th>7</th>\n",
              "      <td>4156</td>\n",
              "      <td>Calgary Parks</td>\n",
              "      <td>MCT900</td>\n",
              "      <td>0020005762913</td>\n",
              "      <td>4975R 130 AV SE</td>\n",
              "      <td>Electricity</td>\n",
              "      <td>2015</td>\n",
              "      <td>Aug</td>\n",
              "      <td>9.0</td>\n",
              "      <td>kWh</td>\n",
              "    </tr>\n",
              "    <tr>\n",
              "      <th>8</th>\n",
              "      <td>4285</td>\n",
              "      <td>Calgary Parks</td>\n",
              "      <td>WSP497</td>\n",
              "      <td>0020005537703</td>\n",
              "      <td>800 73 ST SW</td>\n",
              "      <td>Electricity</td>\n",
              "      <td>2015</td>\n",
              "      <td>Aug</td>\n",
              "      <td>4.0</td>\n",
              "      <td>kWh</td>\n",
              "    </tr>\n",
              "    <tr>\n",
              "      <th>9</th>\n",
              "      <td>4324</td>\n",
              "      <td>Calgary Parks</td>\n",
              "      <td>WSP498</td>\n",
              "      <td>0020005822645</td>\n",
              "      <td>66 WESTON MR SW</td>\n",
              "      <td>Electricity</td>\n",
              "      <td>2015</td>\n",
              "      <td>Aug</td>\n",
              "      <td>9.0</td>\n",
              "      <td>kWh</td>\n",
              "    </tr>\n",
              "    <tr>\n",
              "      <th>10</th>\n",
              "      <td>4405</td>\n",
              "      <td>Calgary Parks</td>\n",
              "      <td>DOV769</td>\n",
              "      <td>0020005687953</td>\n",
              "      <td>3425 26 AV SE</td>\n",
              "      <td>Electricity</td>\n",
              "      <td>2015</td>\n",
              "      <td>Apr</td>\n",
              "      <td>0.0</td>\n",
              "      <td>kWh</td>\n",
              "    </tr>\n",
              "    <tr>\n",
              "      <th>11</th>\n",
              "      <td>4603</td>\n",
              "      <td>Calgary Parks</td>\n",
              "      <td>RUT622</td>\n",
              "      <td>0020006318085</td>\n",
              "      <td>3130 40 AV SW</td>\n",
              "      <td>Electricity</td>\n",
              "      <td>2015</td>\n",
              "      <td>Apr</td>\n",
              "      <td>0.0</td>\n",
              "      <td>kWh</td>\n",
              "    </tr>\n",
              "  </tbody>\n",
              "</table>\n",
              "</div>"
            ],
            "text/plain": [
              "    Unnamed: 0 Business Unit Desc  ... Total Consumption Unit\n",
              "0         1916      Calgary Parks  ...               0.0  kWh\n",
              "1         2283      Calgary Parks  ...               0.0  kWh\n",
              "2         2416      Calgary Parks  ...               0.0  kWh\n",
              "3         2778              Roads  ...            6288.0  kWh\n",
              "4         3278      Calgary Parks  ...               9.0  kWh\n",
              "5         3305      Calgary Parks  ...               0.0  kWh\n",
              "6         3979      Calgary Parks  ...             368.0  kWh\n",
              "7         4156      Calgary Parks  ...               9.0  kWh\n",
              "8         4285      Calgary Parks  ...               4.0  kWh\n",
              "9         4324      Calgary Parks  ...               9.0  kWh\n",
              "10        4405      Calgary Parks  ...               0.0  kWh\n",
              "11        4603      Calgary Parks  ...               0.0  kWh\n",
              "\n",
              "[12 rows x 10 columns]"
            ]
          },
          "metadata": {
            "tags": []
          },
          "execution_count": 88
        }
      ]
    },
    {
      "cell_type": "code",
      "metadata": {
        "id": "tvvIJndU3NMB",
        "colab_type": "code",
        "outputId": "ac484ba1-8573-41c0-e8e7-aec23bd2aa02",
        "colab": {
          "base_uri": "https://localhost:8080/",
          "height": 298
        }
      },
      "source": [
        "df12.info(null_counts=True)"
      ],
      "execution_count": 0,
      "outputs": [
        {
          "output_type": "stream",
          "text": [
            "<class 'pandas.core.frame.DataFrame'>\n",
            "RangeIndex: 80547 entries, 0 to 80546\n",
            "Data columns (total 10 columns):\n",
            "Unnamed: 0            80547 non-null int64\n",
            "Business Unit Desc    80547 non-null object\n",
            "FacilityName          80547 non-null object\n",
            "Site ID               80547 non-null object\n",
            "FacilityAddress       80547 non-null object\n",
            "Energy Description    80547 non-null object\n",
            "Year                  80547 non-null int64\n",
            "Month                 80547 non-null object\n",
            "Total Consumption     80521 non-null float64\n",
            "Unit                  80547 non-null object\n",
            "dtypes: float64(1), int64(2), object(7)\n",
            "memory usage: 6.1+ MB\n"
          ],
          "name": "stdout"
        }
      ]
    },
    {
      "cell_type": "code",
      "metadata": {
        "id": "_ZHdeFzE3X29",
        "colab_type": "code",
        "outputId": "235c500f-cc56-4952-804a-f5d7a5eaec05",
        "colab": {
          "base_uri": "https://localhost:8080/",
          "height": 424
        }
      },
      "source": [
        "from sklearn.preprocessing import Imputer\n",
        "cols = ['Total Consumption','Year', 'Month']\n",
        "df13 = df12[cols].fillna(0)\n",
        "\n",
        "df13"
      ],
      "execution_count": 0,
      "outputs": [
        {
          "output_type": "execute_result",
          "data": {
            "text/html": [
              "<div>\n",
              "<style scoped>\n",
              "    .dataframe tbody tr th:only-of-type {\n",
              "        vertical-align: middle;\n",
              "    }\n",
              "\n",
              "    .dataframe tbody tr th {\n",
              "        vertical-align: top;\n",
              "    }\n",
              "\n",
              "    .dataframe thead th {\n",
              "        text-align: right;\n",
              "    }\n",
              "</style>\n",
              "<table border=\"1\" class=\"dataframe\">\n",
              "  <thead>\n",
              "    <tr style=\"text-align: right;\">\n",
              "      <th></th>\n",
              "      <th>Total Consumption</th>\n",
              "      <th>Year</th>\n",
              "      <th>Month</th>\n",
              "    </tr>\n",
              "  </thead>\n",
              "  <tbody>\n",
              "    <tr>\n",
              "      <th>0</th>\n",
              "      <td>0.0</td>\n",
              "      <td>2017</td>\n",
              "      <td>Sep</td>\n",
              "    </tr>\n",
              "    <tr>\n",
              "      <th>1</th>\n",
              "      <td>0.0</td>\n",
              "      <td>2017</td>\n",
              "      <td>Feb</td>\n",
              "    </tr>\n",
              "    <tr>\n",
              "      <th>2</th>\n",
              "      <td>0.0</td>\n",
              "      <td>2017</td>\n",
              "      <td>Feb</td>\n",
              "    </tr>\n",
              "    <tr>\n",
              "      <th>3</th>\n",
              "      <td>6288.0</td>\n",
              "      <td>2015</td>\n",
              "      <td>Nov</td>\n",
              "    </tr>\n",
              "    <tr>\n",
              "      <th>4</th>\n",
              "      <td>9.0</td>\n",
              "      <td>2015</td>\n",
              "      <td>May</td>\n",
              "    </tr>\n",
              "    <tr>\n",
              "      <th>...</th>\n",
              "      <td>...</td>\n",
              "      <td>...</td>\n",
              "      <td>...</td>\n",
              "    </tr>\n",
              "    <tr>\n",
              "      <th>80542</th>\n",
              "      <td>7297.0</td>\n",
              "      <td>2013</td>\n",
              "      <td>Apr</td>\n",
              "    </tr>\n",
              "    <tr>\n",
              "      <th>80543</th>\n",
              "      <td>3584.0</td>\n",
              "      <td>2013</td>\n",
              "      <td>Apr</td>\n",
              "    </tr>\n",
              "    <tr>\n",
              "      <th>80544</th>\n",
              "      <td>2551.0</td>\n",
              "      <td>2013</td>\n",
              "      <td>Apr</td>\n",
              "    </tr>\n",
              "    <tr>\n",
              "      <th>80545</th>\n",
              "      <td>56.0</td>\n",
              "      <td>2013</td>\n",
              "      <td>Apr</td>\n",
              "    </tr>\n",
              "    <tr>\n",
              "      <th>80546</th>\n",
              "      <td>26.0</td>\n",
              "      <td>2013</td>\n",
              "      <td>Apr</td>\n",
              "    </tr>\n",
              "  </tbody>\n",
              "</table>\n",
              "<p>80547 rows × 3 columns</p>\n",
              "</div>"
            ],
            "text/plain": [
              "       Total Consumption  Year Month\n",
              "0                    0.0  2017   Sep\n",
              "1                    0.0  2017   Feb\n",
              "2                    0.0  2017   Feb\n",
              "3                 6288.0  2015   Nov\n",
              "4                    9.0  2015   May\n",
              "...                  ...   ...   ...\n",
              "80542             7297.0  2013   Apr\n",
              "80543             3584.0  2013   Apr\n",
              "80544             2551.0  2013   Apr\n",
              "80545               56.0  2013   Apr\n",
              "80546               26.0  2013   Apr\n",
              "\n",
              "[80547 rows x 3 columns]"
            ]
          },
          "metadata": {
            "tags": []
          },
          "execution_count": 91
        }
      ]
    },
    {
      "cell_type": "code",
      "metadata": {
        "id": "WZtibwZdU9li",
        "colab_type": "code",
        "colab": {}
      },
      "source": [
        "from sklearn.linear_model import LinearRegression"
      ],
      "execution_count": 0,
      "outputs": []
    },
    {
      "cell_type": "code",
      "metadata": {
        "id": "K0kVW6CIU9ln",
        "colab_type": "code",
        "colab": {}
      },
      "source": [
        "lr = LinearRegression()  #lr = LinearRegression(normalize = True)"
      ],
      "execution_count": 0,
      "outputs": []
    },
    {
      "cell_type": "code",
      "metadata": {
        "id": "dvgGdZgiU9lq",
        "colab_type": "code",
        "outputId": "55890f8e-e589-4f3a-dc92-c07e7871899a",
        "colab": {
          "base_uri": "https://localhost:8080/",
          "height": 36
        }
      },
      "source": [
        "lr"
      ],
      "execution_count": 0,
      "outputs": [
        {
          "output_type": "execute_result",
          "data": {
            "text/plain": [
              "LinearRegression(copy_X=True, fit_intercept=True, n_jobs=None, normalize=False)"
            ]
          },
          "metadata": {
            "tags": []
          },
          "execution_count": 94
        }
      ]
    },
    {
      "cell_type": "code",
      "metadata": {
        "id": "9Xfi9_UJU9lx",
        "colab_type": "code",
        "outputId": "4c5bd5f8-8e85-46ea-b13c-4a586a59e30e",
        "colab": {
          "base_uri": "https://localhost:8080/",
          "height": 36
        }
      },
      "source": [
        "type(lr)"
      ],
      "execution_count": 0,
      "outputs": [
        {
          "output_type": "execute_result",
          "data": {
            "text/plain": [
              "sklearn.linear_model.base.LinearRegression"
            ]
          },
          "metadata": {
            "tags": []
          },
          "execution_count": 95
        }
      ]
    },
    {
      "cell_type": "code",
      "metadata": {
        "id": "5GsBaWff2IEc",
        "colab_type": "code",
        "outputId": "f624472a-46b7-48d8-d07a-d9c3b8281a65",
        "colab": {
          "base_uri": "https://localhost:8080/",
          "height": 36
        }
      },
      "source": [
        "lr.fit(X = df13[['Year']], y = df13[\"Total Consumption\"])"
      ],
      "execution_count": 0,
      "outputs": [
        {
          "output_type": "execute_result",
          "data": {
            "text/plain": [
              "LinearRegression(copy_X=True, fit_intercept=True, n_jobs=None, normalize=False)"
            ]
          },
          "metadata": {
            "tags": []
          },
          "execution_count": 96
        }
      ]
    },
    {
      "cell_type": "code",
      "metadata": {
        "id": "F3KEgrYM0CUh",
        "colab_type": "code",
        "outputId": "8010ae7a-0683-45d6-ba3a-c76f0492d583",
        "colab": {
          "base_uri": "https://localhost:8080/",
          "height": 36
        }
      },
      "source": [
        "print(lr.score(X = df13[['Year']], y = df13[\"Total Consumption\"]))"
      ],
      "execution_count": 0,
      "outputs": [
        {
          "output_type": "stream",
          "text": [
            "1.2889169570207137e-05\n"
          ],
          "name": "stdout"
        }
      ]
    },
    {
      "cell_type": "code",
      "metadata": {
        "id": "EcYJnn_M66ij",
        "colab_type": "code",
        "outputId": "388a6a32-d2d7-4bfa-ea6b-1272f45ea21d",
        "colab": {
          "base_uri": "https://localhost:8080/",
          "height": 36
        }
      },
      "source": [
        "print(lr.intercept_, lr.coef_)"
      ],
      "execution_count": 0,
      "outputs": [
        {
          "output_type": "stream",
          "text": [
            "1201606.2032715345 [-581.9496797]\n"
          ],
          "name": "stdout"
        }
      ]
    },
    {
      "cell_type": "code",
      "metadata": {
        "id": "UAdVq83w7GKZ",
        "colab_type": "code",
        "outputId": "71b2ceb4-4bb3-4a08-dd22-ec2f0e09fcc0",
        "colab": {
          "base_uri": "https://localhost:8080/",
          "height": 298
        }
      },
      "source": [
        "plt.plot(df13['Year'], df13['Total Consumption'], 'or', mfc='none')"
      ],
      "execution_count": 0,
      "outputs": [
        {
          "output_type": "execute_result",
          "data": {
            "text/plain": [
              "[<matplotlib.lines.Line2D at 0x7f63a175fe10>]"
            ]
          },
          "metadata": {
            "tags": []
          },
          "execution_count": 99
        },
        {
          "output_type": "display_data",
          "data": {
            "image/png": "[encoded data removed]",
            "text/plain": [
              "<Figure size 360x288 with 1 Axes>"
            ]
          },
          "metadata": {
            "tags": []
          }
        }
      ]
    },
    {
      "cell_type": "code",
      "metadata": {
        "id": "2DkreB0n7q-7",
        "colab_type": "code",
        "outputId": "c210ae03-47e9-4f72-ac1d-06993ccb424e",
        "colab": {
          "base_uri": "https://localhost:8080/",
          "height": 311
        }
      },
      "source": [
        "plt.plot(df13['Total Consumption'], lr.intercept_ + lr.coef_ * df13['Total Consumption'], '-b')\n",
        "                                                                     \n",
        "                                                                     "
      ],
      "execution_count": 0,
      "outputs": [
        {
          "output_type": "execute_result",
          "data": {
            "text/plain": [
              "[<matplotlib.lines.Line2D at 0x7f63a1739d68>]"
            ]
          },
          "metadata": {
            "tags": []
          },
          "execution_count": 100
        },
        {
          "output_type": "display_data",
          "data": {
            "image/png": "[encoded data removed]",
            "text/plain": [
              "<Figure size 360x288 with 1 Axes>"
            ]
          },
          "metadata": {
            "tags": []
          }
        }
      ]
    },
    {
      "cell_type": "code",
      "metadata": {
        "id": "rjyrEy8BVQX7",
        "colab_type": "code",
        "outputId": "b44e20ad-e661-468f-afbe-ea4adb2f7f3e",
        "colab": {
          "base_uri": "https://localhost:8080/",
          "height": 298
        }
      },
      "source": [
        "plt.plot(df13['Month'], df13['Total Consumption'], 'or', mfc='none')"
      ],
      "execution_count": 0,
      "outputs": [
        {
          "output_type": "execute_result",
          "data": {
            "text/plain": [
              "[<matplotlib.lines.Line2D at 0x7f63a1699668>]"
            ]
          },
          "metadata": {
            "tags": []
          },
          "execution_count": 101
        },
        {
          "output_type": "display_data",
          "data": {
            "image/png": "[encoded data removed]",
            "text/plain": [
              "<Figure size 360x288 with 1 Axes>"
            ]
          },
          "metadata": {
            "tags": []
          }
        }
      ]
    },
    {
      "cell_type": "code",
      "metadata": {
        "id": "BQf17Z1rXOS_",
        "colab_type": "code",
        "outputId": "5a6ddebd-7cc1-4969-88d5-6df27ff0391b",
        "colab": {
          "base_uri": "https://localhost:8080/",
          "height": 284
        }
      },
      "source": [
        "import matplotlib.dates as mdates\n",
        "fig, ax = plt.subplots()\n",
        "ax.plot(df13.loc['2013':'2017', 'Total Consumption'], marker='o', linestyle='-')\n",
        "ax.set_ylabel('Total Consumption (kWh)')\n",
        "ax.set_title('Energy consumption by month for the time period 2013--2017(kWh)')\n",
        "# Set x-axis major ticks to weekly interval, on Mondays\n",
        "ax.xaxis.set_major_locator(mdates.WeekdayLocator(byweekday=mdates.MONDAY))\n",
        "# Format x-tick labels as 3-letter month name and day number\n",
        "ax.xaxis.set_major_formatter(mdates.DateFormatter('%b %d'));\n",
        "\n",
        "\n",
        "#df13['Month'].plot(linewidth=0.5);\n",
        "   ## ax.set_ylabel('Energy consumption by month for the time period 2013--2017(kWh)')"
      ],
      "execution_count": 0,
      "outputs": [
        {
          "output_type": "display_data",
          "data": {
            "image/png": "[encoded data removed]",
            "text/plain": [
              "<Figure size 360x288 with 1 Axes>"
            ]
          },
          "metadata": {
            "tags": []
          }
        }
      ]
    },
    {
      "cell_type": "code",
      "metadata": {
        "id": "QzCrCGps7GEy",
        "colab_type": "code",
        "outputId": "391fd180-11fa-493e-fd1b-23f9142dd6de",
        "colab": {
          "base_uri": "https://localhost:8080/",
          "height": 301
        }
      },
      "source": [
        "ax = df13.loc['2013':'2018', 'Total Consumption'].plot()\n",
        "ax.set_title('Energy consumption by year for the time period 2013--2017(kWh)')\n",
        "ax.set_ylabel('Total Consumption (kWh)');\n",
        "ax.set_xlabel('Year');"
      ],
      "execution_count": 0,
      "outputs": [
        {
          "output_type": "display_data",
          "data": {
            "image/png": "[encoded data removed]",
            "text/plain": [
              "<Figure size 360x288 with 1 Axes>"
            ]
          },
          "metadata": {
            "tags": []
          }
        }
      ]
    }
  ]
}